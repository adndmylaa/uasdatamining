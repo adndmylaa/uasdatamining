{
 "cells": [
  {
   "cell_type": "markdown",
   "id": "33e71ccb",
   "metadata": {
    "id": "33e71ccb"
   },
   "source": [
    "### Pra-Proses Data"
   ]
  },
  {
   "cell_type": "code",
   "execution_count": 1,
   "id": "2752578a",
   "metadata": {},
   "outputs": [],
   "source": [
    "import pandas as pd\n",
    "import numpy as np\n",
    "import matplotlib.pyplot as plt"
   ]
  },
  {
   "cell_type": "code",
   "execution_count": 2,
   "id": "2ed79fee",
   "metadata": {
    "colab": {
     "base_uri": "https://localhost:8080/"
    },
    "id": "2ed79fee",
    "outputId": "44bb9121-0035-4293-816e-fdf5cf4c1885"
   },
   "outputs": [],
   "source": [
    "from sklearn.preprocessing import LabelEncoder, MinMaxScaler\n",
    "from sklearn.model_selection import train_test_split\n",
    "from sklearn.metrics import mean_squared_error"
   ]
  },
  {
   "cell_type": "code",
   "execution_count": 3,
   "id": "2ec46c65",
   "metadata": {},
   "outputs": [],
   "source": [
    "from tensorflow.keras.models import Sequential\n",
    "from tensorflow.keras.layers import Conv1D, LSTM, Dense, Dropout\n",
    "from tensorflow.keras.callbacks import EarlyStopping"
   ]
  },
  {
   "cell_type": "code",
   "execution_count": 4,
   "id": "858241af",
   "metadata": {
    "id": "858241af"
   },
   "outputs": [
    {
     "data": {
      "application/vnd.microsoft.datawrangler.viewer.v0+json": {
       "columns": [
        {
         "name": "index",
         "rawType": "int64",
         "type": "integer"
        },
        {
         "name": "No",
         "rawType": "int64",
         "type": "integer"
        },
        {
         "name": "Daerah",
         "rawType": "object",
         "type": "string"
        },
        {
         "name": "Kelompok Umur",
         "rawType": "object",
         "type": "string"
        },
        {
         "name": "Tahun",
         "rawType": "int64",
         "type": "integer"
        },
        {
         "name": "Belum Kawin",
         "rawType": "float64",
         "type": "float"
        },
        {
         "name": "Kawin",
         "rawType": "float64",
         "type": "float"
        },
        {
         "name": "Cerai Hidup",
         "rawType": "float64",
         "type": "float"
        },
        {
         "name": "Cerai Mati",
         "rawType": "float64",
         "type": "float"
        },
        {
         "name": "Jenis Kelamin",
         "rawType": "object",
         "type": "string"
        }
       ],
       "conversionMethod": "pd.DataFrame",
       "ref": "97d4fbc5-04ee-4bdd-9c26-3b3a1b080ea2",
       "rows": [
        [
         "0",
         "1",
         "Perkotaan",
         "10-24",
         "2009",
         "91.63",
         "4.11",
         "3.3",
         "0.97",
         "Perempuan"
        ],
        [
         "1",
         "2",
         "Perkotaan",
         "25-44",
         "2009",
         "21.24",
         "20.57",
         "30.22",
         "27.97",
         "Perempuan"
        ],
        [
         "2",
         "3",
         "Perkotaan",
         "45-59",
         "2009",
         "3.23",
         "6.52",
         "17.38",
         "72.88",
         "Perempuan"
        ],
        [
         "3",
         "4",
         "Perkotaan",
         "60+",
         "2009",
         "1.35",
         "2.08",
         "5.04",
         "91.52",
         "Perempuan"
        ],
        [
         "4",
         "5",
         "Pedesaan",
         "10-24",
         "2009",
         "42.37",
         "37.71",
         "15.46",
         "4.46",
         "Perempuan"
        ],
        [
         "5",
         "6",
         "Pedesaan",
         "25-44",
         "2009",
         "5.73",
         "29.32",
         "29.11",
         "35.83",
         "Perempuan"
        ],
        [
         "6",
         "7",
         "Pedesaan",
         "45-59",
         "2009",
         "2.3",
         "6.72",
         "16.62",
         "74.36",
         "Perempuan"
        ],
        [
         "7",
         "8",
         "Pedesaan",
         "60+",
         "2009",
         "1.18",
         "1.85",
         "5.55",
         "91.43",
         "Perempuan"
        ],
        [
         "8",
         "9",
         "Perkotaan",
         "10-24",
         "2010",
         "94.45",
         "3.42",
         "1.57",
         "0.57",
         "Perempuan"
        ],
        [
         "9",
         "10",
         "Perkotaan",
         "25-44",
         "2010",
         "23.69",
         "23.03",
         "26.44",
         "26.83",
         "Perempuan"
        ],
        [
         "10",
         "11",
         "Perkotaan",
         "45-59",
         "2010",
         "3.92",
         "7.74",
         "18.15",
         "70.2",
         "Perempuan"
        ],
        [
         "11",
         "12",
         "Perkotaan",
         "60+",
         "2010",
         "1.71",
         "2.43",
         "5.68",
         "90.17",
         "Perempuan"
        ],
        [
         "12",
         "13",
         "Pedesaan",
         "10-24",
         "2010",
         "52.64",
         "30.31",
         "11.98",
         "5.07",
         "Perempuan"
        ],
        [
         "13",
         "14",
         "Pedesaan",
         "25-44",
         "2010",
         "5.78",
         "33.64",
         "29.31",
         "31.27",
         "Perempuan"
        ],
        [
         "14",
         "15",
         "Pedesaan",
         "45-59",
         "2010",
         "2.55",
         "7.68",
         "17.51",
         "72.25",
         "Perempuan"
        ],
        [
         "15",
         "16",
         "Pedesaan",
         "60+",
         "2010",
         "1.22",
         "2.11",
         "6.05",
         "90.62",
         "Perempuan"
        ],
        [
         "16",
         "17",
         "Perkotaan",
         "10-24",
         "2011",
         "92.01",
         "4.77",
         "2.96",
         "0.26",
         "Perempuan"
        ],
        [
         "17",
         "18",
         "Perkotaan",
         "25-44",
         "2011",
         "20.8",
         "26.08",
         "26.69",
         "26.43",
         "Perempuan"
        ],
        [
         "18",
         "19",
         "Perkotaan",
         "45-59",
         "2011",
         "3.33",
         "8.93",
         "18.03",
         "69.72",
         "Perempuan"
        ],
        [
         "19",
         "20",
         "Perkotaan",
         "60+",
         "2011",
         "1.48",
         "2.78",
         "4.5",
         "91.25",
         "Perempuan"
        ],
        [
         "20",
         "21",
         "Pedesaan",
         "10-24",
         "2011",
         "44.92",
         "34.73",
         "15.95",
         "4.4",
         "Perempuan"
        ],
        [
         "21",
         "22",
         "Pedesaan",
         "25-44",
         "2011",
         "5.29",
         "35.66",
         "26.51",
         "32.55",
         "Perempuan"
        ],
        [
         "22",
         "23",
         "Pedesaan",
         "45-59",
         "2011",
         "2.13",
         "9.97",
         "15.67",
         "72.22",
         "Perempuan"
        ],
        [
         "23",
         "24",
         "Pedesaan",
         "60+",
         "2011",
         "1.05",
         "2.1",
         "5.94",
         "90.92",
         "Perempuan"
        ],
        [
         "24",
         "25",
         "Perkotaan",
         "10-24",
         "2012",
         "91.4",
         "6.47",
         "1.91",
         "0.23",
         "Perempuan"
        ],
        [
         "25",
         "26",
         "Perkotaan",
         "25-44",
         "2012",
         "17.9",
         "28.19",
         "28.58",
         "25.33",
         "Perempuan"
        ],
        [
         "26",
         "27",
         "Perkotaan",
         "45-59",
         "2012",
         "2.9",
         "8.02",
         "16.01",
         "73.07",
         "Perempuan"
        ],
        [
         "27",
         "28",
         "Perkotaan",
         "60+",
         "2012",
         "1.43",
         "2.53",
         "5.02",
         "91.02",
         "Perempuan"
        ],
        [
         "28",
         "29",
         "Pedesaan",
         "10-24",
         "2012",
         "48.65",
         "35.94",
         "11.01",
         "4.4",
         "Perempuan"
        ],
        [
         "29",
         "30",
         "Pedesaan",
         "25-44",
         "2012",
         "5.01",
         "36.58",
         "26.8",
         "31.61",
         "Perempuan"
        ],
        [
         "30",
         "31",
         "Pedesaan",
         "45-59",
         "2012",
         "2.25",
         "8.65",
         "16.51",
         "72.6",
         "Perempuan"
        ],
        [
         "31",
         "32",
         "Pedesaan",
         "60+",
         "2012",
         "1.07",
         "2.18",
         "5.76",
         "90.99",
         "Perempuan"
        ],
        [
         "32",
         "33",
         "Perkotaan",
         "10-24",
         "2013",
         "90.35",
         "5.61",
         "4.0",
         "0.04",
         "Perempuan"
        ],
        [
         "33",
         "34",
         "Perkotaan",
         "25-44",
         "2013",
         "17.13",
         "26.73",
         "29.23",
         "26.92",
         "Perempuan"
        ],
        [
         "34",
         "35",
         "Perkotaan",
         "45-59",
         "2013",
         "2.94",
         "8.21",
         "16.53",
         "72.32",
         "Perempuan"
        ],
        [
         "35",
         "36",
         "Perkotaan",
         "60+",
         "2013",
         "1.24",
         "1.71",
         "5.59",
         "91.47",
         "Perempuan"
        ],
        [
         "36",
         "37",
         "Pedesaan",
         "10-24",
         "2013",
         "40.67",
         "41.81",
         "14.57",
         "2.95",
         "Perempuan"
        ],
        [
         "37",
         "38",
         "Pedesaan",
         "25-44",
         "2013",
         "4.21",
         "37.39",
         "25.1",
         "33.3",
         "Perempuan"
        ],
        [
         "38",
         "39",
         "Pedesaan",
         "45-59",
         "2013",
         "2.2",
         "8.52",
         "15.53",
         "73.76",
         "Perempuan"
        ],
        [
         "39",
         "40",
         "Pedesaan",
         "60+",
         "2013",
         "0.98",
         "2.1",
         "5.47",
         "91.45",
         "Perempuan"
        ],
        [
         "40",
         "41",
         "Perkotaan",
         "10-24",
         "2014",
         "94.63",
         "3.19",
         "2.06",
         "0.12",
         "Perempuan"
        ],
        [
         "41",
         "42",
         "Perkotaan",
         "25-44",
         "2014",
         "17.79",
         "27.35",
         "27.39",
         "27.48",
         "Perempuan"
        ],
        [
         "42",
         "43",
         "Perkotaan",
         "45-59",
         "2014",
         "2.84",
         "7.96",
         "16.77",
         "72.43",
         "Perempuan"
        ],
        [
         "43",
         "44",
         "Perkotaan",
         "60+",
         "2014",
         "1.52",
         "1.75",
         "5.08",
         "91.65",
         "Perempuan"
        ],
        [
         "44",
         "45",
         "Pedesaan",
         "10-24",
         "2014",
         "36.8",
         "47.73",
         "9.79",
         "5.68",
         "Perempuan"
        ],
        [
         "45",
         "46",
         "Pedesaan",
         "25-44",
         "2014",
         "3.67",
         "40.97",
         "23.98",
         "31.38",
         "Perempuan"
        ],
        [
         "46",
         "47",
         "Pedesaan",
         "45-59",
         "2014",
         "2.19",
         "8.57",
         "16.63",
         "72.61",
         "Perempuan"
        ],
        [
         "47",
         "48",
         "Pedesaan",
         "60+",
         "2014",
         "1.11",
         "1.84",
         "5.63",
         "91.42",
         "Perempuan"
        ],
        [
         "48",
         "49",
         "Perkotaan",
         "10-24",
         "2015",
         "92.53",
         "5.34",
         "2.07",
         "0.06",
         "Perempuan"
        ],
        [
         "49",
         "50",
         "Perkotaan",
         "25-44",
         "2015",
         "17.65",
         "27.24",
         "29.7",
         "25.42",
         "Perempuan"
        ]
       ],
       "shape": {
        "columns": 9,
        "rows": 368
       }
      },
      "text/html": [
       "<div>\n",
       "<style scoped>\n",
       "    .dataframe tbody tr th:only-of-type {\n",
       "        vertical-align: middle;\n",
       "    }\n",
       "\n",
       "    .dataframe tbody tr th {\n",
       "        vertical-align: top;\n",
       "    }\n",
       "\n",
       "    .dataframe thead th {\n",
       "        text-align: right;\n",
       "    }\n",
       "</style>\n",
       "<table border=\"1\" class=\"dataframe\">\n",
       "  <thead>\n",
       "    <tr style=\"text-align: right;\">\n",
       "      <th></th>\n",
       "      <th>No</th>\n",
       "      <th>Daerah</th>\n",
       "      <th>Kelompok Umur</th>\n",
       "      <th>Tahun</th>\n",
       "      <th>Belum Kawin</th>\n",
       "      <th>Kawin</th>\n",
       "      <th>Cerai Hidup</th>\n",
       "      <th>Cerai Mati</th>\n",
       "      <th>Jenis Kelamin</th>\n",
       "    </tr>\n",
       "  </thead>\n",
       "  <tbody>\n",
       "    <tr>\n",
       "      <th>0</th>\n",
       "      <td>1</td>\n",
       "      <td>Perkotaan</td>\n",
       "      <td>10-24</td>\n",
       "      <td>2009</td>\n",
       "      <td>91.63</td>\n",
       "      <td>4.11</td>\n",
       "      <td>3.30</td>\n",
       "      <td>0.97</td>\n",
       "      <td>Perempuan</td>\n",
       "    </tr>\n",
       "    <tr>\n",
       "      <th>1</th>\n",
       "      <td>2</td>\n",
       "      <td>Perkotaan</td>\n",
       "      <td>25-44</td>\n",
       "      <td>2009</td>\n",
       "      <td>21.24</td>\n",
       "      <td>20.57</td>\n",
       "      <td>30.22</td>\n",
       "      <td>27.97</td>\n",
       "      <td>Perempuan</td>\n",
       "    </tr>\n",
       "    <tr>\n",
       "      <th>2</th>\n",
       "      <td>3</td>\n",
       "      <td>Perkotaan</td>\n",
       "      <td>45-59</td>\n",
       "      <td>2009</td>\n",
       "      <td>3.23</td>\n",
       "      <td>6.52</td>\n",
       "      <td>17.38</td>\n",
       "      <td>72.88</td>\n",
       "      <td>Perempuan</td>\n",
       "    </tr>\n",
       "    <tr>\n",
       "      <th>3</th>\n",
       "      <td>4</td>\n",
       "      <td>Perkotaan</td>\n",
       "      <td>60+</td>\n",
       "      <td>2009</td>\n",
       "      <td>1.35</td>\n",
       "      <td>2.08</td>\n",
       "      <td>5.04</td>\n",
       "      <td>91.52</td>\n",
       "      <td>Perempuan</td>\n",
       "    </tr>\n",
       "    <tr>\n",
       "      <th>4</th>\n",
       "      <td>5</td>\n",
       "      <td>Pedesaan</td>\n",
       "      <td>10-24</td>\n",
       "      <td>2009</td>\n",
       "      <td>42.37</td>\n",
       "      <td>37.71</td>\n",
       "      <td>15.46</td>\n",
       "      <td>4.46</td>\n",
       "      <td>Perempuan</td>\n",
       "    </tr>\n",
       "    <tr>\n",
       "      <th>...</th>\n",
       "      <td>...</td>\n",
       "      <td>...</td>\n",
       "      <td>...</td>\n",
       "      <td>...</td>\n",
       "      <td>...</td>\n",
       "      <td>...</td>\n",
       "      <td>...</td>\n",
       "      <td>...</td>\n",
       "      <td>...</td>\n",
       "    </tr>\n",
       "    <tr>\n",
       "      <th>363</th>\n",
       "      <td>364</td>\n",
       "      <td>Pedesaan</td>\n",
       "      <td>60+</td>\n",
       "      <td>2024</td>\n",
       "      <td>0.20</td>\n",
       "      <td>92.08</td>\n",
       "      <td>0.59</td>\n",
       "      <td>7.13</td>\n",
       "      <td>Laki-Laki</td>\n",
       "    </tr>\n",
       "    <tr>\n",
       "      <th>364</th>\n",
       "      <td>365</td>\n",
       "      <td>Perkotaan +  Pedesaan</td>\n",
       "      <td>10-24</td>\n",
       "      <td>2024</td>\n",
       "      <td>38.60</td>\n",
       "      <td>60.75</td>\n",
       "      <td>0.46</td>\n",
       "      <td>0.19</td>\n",
       "      <td>Laki-Laki</td>\n",
       "    </tr>\n",
       "    <tr>\n",
       "      <th>365</th>\n",
       "      <td>366</td>\n",
       "      <td>Perkotaan +  Pedesaan</td>\n",
       "      <td>25-44</td>\n",
       "      <td>2024</td>\n",
       "      <td>1.94</td>\n",
       "      <td>96.58</td>\n",
       "      <td>1.10</td>\n",
       "      <td>0.38</td>\n",
       "      <td>Laki-Laki</td>\n",
       "    </tr>\n",
       "    <tr>\n",
       "      <th>366</th>\n",
       "      <td>367</td>\n",
       "      <td>Perkotaan +  Pedesaan</td>\n",
       "      <td>45-59</td>\n",
       "      <td>2024</td>\n",
       "      <td>0.60</td>\n",
       "      <td>95.77</td>\n",
       "      <td>1.22</td>\n",
       "      <td>2.41</td>\n",
       "      <td>Laki-Laki</td>\n",
       "    </tr>\n",
       "    <tr>\n",
       "      <th>367</th>\n",
       "      <td>368</td>\n",
       "      <td>Perkotaan +  Pedesaan</td>\n",
       "      <td>60+</td>\n",
       "      <td>2024</td>\n",
       "      <td>0.25</td>\n",
       "      <td>90.65</td>\n",
       "      <td>0.83</td>\n",
       "      <td>8.26</td>\n",
       "      <td>Laki-Laki</td>\n",
       "    </tr>\n",
       "  </tbody>\n",
       "</table>\n",
       "<p>368 rows × 9 columns</p>\n",
       "</div>"
      ],
      "text/plain": [
       "      No                 Daerah Kelompok Umur  Tahun  Belum Kawin  Kawin  \\\n",
       "0      1              Perkotaan         10-24   2009        91.63   4.11   \n",
       "1      2              Perkotaan         25-44   2009        21.24  20.57   \n",
       "2      3              Perkotaan         45-59   2009         3.23   6.52   \n",
       "3      4              Perkotaan           60+   2009         1.35   2.08   \n",
       "4      5               Pedesaan         10-24   2009        42.37  37.71   \n",
       "..   ...                    ...           ...    ...          ...    ...   \n",
       "363  364               Pedesaan           60+   2024         0.20  92.08   \n",
       "364  365  Perkotaan +  Pedesaan         10-24   2024        38.60  60.75   \n",
       "365  366  Perkotaan +  Pedesaan         25-44   2024         1.94  96.58   \n",
       "366  367  Perkotaan +  Pedesaan         45-59   2024         0.60  95.77   \n",
       "367  368  Perkotaan +  Pedesaan           60+   2024         0.25  90.65   \n",
       "\n",
       "     Cerai Hidup  Cerai Mati Jenis Kelamin  \n",
       "0           3.30        0.97     Perempuan  \n",
       "1          30.22       27.97     Perempuan  \n",
       "2          17.38       72.88     Perempuan  \n",
       "3           5.04       91.52     Perempuan  \n",
       "4          15.46        4.46     Perempuan  \n",
       "..           ...         ...           ...  \n",
       "363         0.59        7.13     Laki-Laki  \n",
       "364         0.46        0.19     Laki-Laki  \n",
       "365         1.10        0.38     Laki-Laki  \n",
       "366         1.22        2.41     Laki-Laki  \n",
       "367         0.83        8.26     Laki-Laki  \n",
       "\n",
       "[368 rows x 9 columns]"
      ]
     },
     "execution_count": 4,
     "metadata": {},
     "output_type": "execute_result"
    }
   ],
   "source": [
    "df = pd.read_excel(\"rumah_tangga.xlsx\")\n",
    "df"
   ]
  },
  {
   "cell_type": "code",
   "execution_count": 5,
   "id": "a60127ca",
   "metadata": {},
   "outputs": [
    {
     "data": {
      "application/vnd.microsoft.datawrangler.viewer.v0+json": {
       "columns": [
        {
         "name": "index",
         "rawType": "int64",
         "type": "integer"
        },
        {
         "name": "No",
         "rawType": "int64",
         "type": "integer"
        },
        {
         "name": "Daerah",
         "rawType": "object",
         "type": "string"
        },
        {
         "name": "Kelompok Umur",
         "rawType": "object",
         "type": "string"
        },
        {
         "name": "Tahun",
         "rawType": "int64",
         "type": "integer"
        },
        {
         "name": "Belum Kawin",
         "rawType": "float64",
         "type": "float"
        },
        {
         "name": "Kawin",
         "rawType": "float64",
         "type": "float"
        },
        {
         "name": "Cerai Hidup",
         "rawType": "float64",
         "type": "float"
        },
        {
         "name": "Cerai Mati",
         "rawType": "float64",
         "type": "float"
        },
        {
         "name": "Jenis Kelamin",
         "rawType": "object",
         "type": "string"
        }
       ],
       "conversionMethod": "pd.DataFrame",
       "ref": "0320e7d1-e7c9-47f5-8a98-be13ede9df57",
       "rows": [
        [
         "0",
         "1",
         "Perkotaan",
         "10-24",
         "2009",
         "91.63",
         "4.11",
         "3.3",
         "0.97",
         "Perempuan"
        ],
        [
         "1",
         "2",
         "Perkotaan",
         "25-44",
         "2009",
         "21.24",
         "20.57",
         "30.22",
         "27.97",
         "Perempuan"
        ],
        [
         "2",
         "3",
         "Perkotaan",
         "45-59",
         "2009",
         "3.23",
         "6.52",
         "17.38",
         "72.88",
         "Perempuan"
        ],
        [
         "3",
         "4",
         "Perkotaan",
         "60+",
         "2009",
         "1.35",
         "2.08",
         "5.04",
         "91.52",
         "Perempuan"
        ],
        [
         "4",
         "5",
         "Pedesaan",
         "10-24",
         "2009",
         "42.37",
         "37.71",
         "15.46",
         "4.46",
         "Perempuan"
        ]
       ],
       "shape": {
        "columns": 9,
        "rows": 5
       }
      },
      "text/html": [
       "<div>\n",
       "<style scoped>\n",
       "    .dataframe tbody tr th:only-of-type {\n",
       "        vertical-align: middle;\n",
       "    }\n",
       "\n",
       "    .dataframe tbody tr th {\n",
       "        vertical-align: top;\n",
       "    }\n",
       "\n",
       "    .dataframe thead th {\n",
       "        text-align: right;\n",
       "    }\n",
       "</style>\n",
       "<table border=\"1\" class=\"dataframe\">\n",
       "  <thead>\n",
       "    <tr style=\"text-align: right;\">\n",
       "      <th></th>\n",
       "      <th>No</th>\n",
       "      <th>Daerah</th>\n",
       "      <th>Kelompok Umur</th>\n",
       "      <th>Tahun</th>\n",
       "      <th>Belum Kawin</th>\n",
       "      <th>Kawin</th>\n",
       "      <th>Cerai Hidup</th>\n",
       "      <th>Cerai Mati</th>\n",
       "      <th>Jenis Kelamin</th>\n",
       "    </tr>\n",
       "  </thead>\n",
       "  <tbody>\n",
       "    <tr>\n",
       "      <th>0</th>\n",
       "      <td>1</td>\n",
       "      <td>Perkotaan</td>\n",
       "      <td>10-24</td>\n",
       "      <td>2009</td>\n",
       "      <td>91.63</td>\n",
       "      <td>4.11</td>\n",
       "      <td>3.30</td>\n",
       "      <td>0.97</td>\n",
       "      <td>Perempuan</td>\n",
       "    </tr>\n",
       "    <tr>\n",
       "      <th>1</th>\n",
       "      <td>2</td>\n",
       "      <td>Perkotaan</td>\n",
       "      <td>25-44</td>\n",
       "      <td>2009</td>\n",
       "      <td>21.24</td>\n",
       "      <td>20.57</td>\n",
       "      <td>30.22</td>\n",
       "      <td>27.97</td>\n",
       "      <td>Perempuan</td>\n",
       "    </tr>\n",
       "    <tr>\n",
       "      <th>2</th>\n",
       "      <td>3</td>\n",
       "      <td>Perkotaan</td>\n",
       "      <td>45-59</td>\n",
       "      <td>2009</td>\n",
       "      <td>3.23</td>\n",
       "      <td>6.52</td>\n",
       "      <td>17.38</td>\n",
       "      <td>72.88</td>\n",
       "      <td>Perempuan</td>\n",
       "    </tr>\n",
       "    <tr>\n",
       "      <th>3</th>\n",
       "      <td>4</td>\n",
       "      <td>Perkotaan</td>\n",
       "      <td>60+</td>\n",
       "      <td>2009</td>\n",
       "      <td>1.35</td>\n",
       "      <td>2.08</td>\n",
       "      <td>5.04</td>\n",
       "      <td>91.52</td>\n",
       "      <td>Perempuan</td>\n",
       "    </tr>\n",
       "    <tr>\n",
       "      <th>4</th>\n",
       "      <td>5</td>\n",
       "      <td>Pedesaan</td>\n",
       "      <td>10-24</td>\n",
       "      <td>2009</td>\n",
       "      <td>42.37</td>\n",
       "      <td>37.71</td>\n",
       "      <td>15.46</td>\n",
       "      <td>4.46</td>\n",
       "      <td>Perempuan</td>\n",
       "    </tr>\n",
       "  </tbody>\n",
       "</table>\n",
       "</div>"
      ],
      "text/plain": [
       "   No     Daerah Kelompok Umur  Tahun  Belum Kawin  Kawin  Cerai Hidup  \\\n",
       "0   1  Perkotaan         10-24   2009        91.63   4.11         3.30   \n",
       "1   2  Perkotaan         25-44   2009        21.24  20.57        30.22   \n",
       "2   3  Perkotaan         45-59   2009         3.23   6.52        17.38   \n",
       "3   4  Perkotaan           60+   2009         1.35   2.08         5.04   \n",
       "4   5   Pedesaan         10-24   2009        42.37  37.71        15.46   \n",
       "\n",
       "   Cerai Mati Jenis Kelamin  \n",
       "0        0.97     Perempuan  \n",
       "1       27.97     Perempuan  \n",
       "2       72.88     Perempuan  \n",
       "3       91.52     Perempuan  \n",
       "4        4.46     Perempuan  "
      ]
     },
     "execution_count": 5,
     "metadata": {},
     "output_type": "execute_result"
    }
   ],
   "source": [
    "df.head()"
   ]
  },
  {
   "cell_type": "code",
   "execution_count": 6,
   "id": "8aa3638b",
   "metadata": {},
   "outputs": [
    {
     "name": "stdout",
     "output_type": "stream",
     "text": [
      "<class 'pandas.core.frame.DataFrame'>\n",
      "RangeIndex: 368 entries, 0 to 367\n",
      "Data columns (total 9 columns):\n",
      " #   Column         Non-Null Count  Dtype  \n",
      "---  ------         --------------  -----  \n",
      " 0   No             368 non-null    int64  \n",
      " 1   Daerah         368 non-null    object \n",
      " 2   Kelompok Umur  368 non-null    object \n",
      " 3   Tahun          368 non-null    int64  \n",
      " 4   Belum Kawin    368 non-null    float64\n",
      " 5   Kawin          368 non-null    float64\n",
      " 6   Cerai Hidup    368 non-null    float64\n",
      " 7   Cerai Mati     368 non-null    float64\n",
      " 8   Jenis Kelamin  368 non-null    object \n",
      "dtypes: float64(4), int64(2), object(3)\n",
      "memory usage: 26.0+ KB\n"
     ]
    }
   ],
   "source": [
    "df.info()"
   ]
  },
  {
   "cell_type": "code",
   "execution_count": 13,
   "id": "4667ead8",
   "metadata": {},
   "outputs": [
    {
     "data": {
      "text/plain": [
       "No               0\n",
       "Daerah           0\n",
       "Kelompok Umur    0\n",
       "Tahun            0\n",
       "Belum Kawin      0\n",
       "Kawin            0\n",
       "Cerai Hidup      0\n",
       "Cerai Mati       0\n",
       "Jenis Kelamin    0\n",
       "dtype: int64"
      ]
     },
     "execution_count": 13,
     "metadata": {},
     "output_type": "execute_result"
    }
   ],
   "source": [
    "df.isnull().sum()"
   ]
  },
  {
   "cell_type": "code",
   "execution_count": 7,
   "id": "98e91fa0",
   "metadata": {
    "id": "98e91fa0"
   },
   "outputs": [],
   "source": [
    "# Hapus baris kosong\n",
    "df.dropna(inplace=True)"
   ]
  },
  {
   "cell_type": "code",
   "execution_count": 15,
   "id": "29be59b3",
   "metadata": {
    "id": "29be59b3"
   },
   "outputs": [],
   "source": [
    "# Filter jenis kelamin Perempuan\n",
    "df_perempuan = df[df['Jenis Kelamin'] == 'Perempuan'].copy()"
   ]
  },
  {
   "cell_type": "code",
   "execution_count": 16,
   "id": "a7f010f2",
   "metadata": {
    "id": "a7f010f2"
   },
   "outputs": [],
   "source": [
    "# Konversi menjadi numerik\n",
    "for col in ['Belum Kawin', 'Kawin', 'Cerai Hidup', 'Cerai Mati']:\n",
    "    df_perempuan[col] = pd.to_numeric(df_perempuan[col], errors='coerce')"
   ]
  },
  {
   "cell_type": "code",
   "execution_count": 17,
   "id": "4d8f341f",
   "metadata": {
    "id": "4d8f341f"
   },
   "outputs": [],
   "source": [
    "# Encoder kategori\n",
    "df_perempuan = pd.get_dummies(df_perempuan, columns=['Daerah', 'Kelompok Umur'])"
   ]
  },
  {
   "cell_type": "code",
   "execution_count": 18,
   "id": "3c72816d",
   "metadata": {
    "id": "3c72816d"
   },
   "outputs": [],
   "source": [
    "# Normalisasi\n",
    "scaler = MinMaxScaler()\n",
    "cols_to_scale = ['Tahun', 'Belum Kawin', 'Kawin', 'Cerai Hidup', 'Cerai Mati']\n",
    "df_scaled = df_perempuan.copy()\n",
    "df_scaled[cols_to_scale] = scaler.fit_transform(df_perempuan[cols_to_scale])"
   ]
  },
  {
   "cell_type": "code",
   "execution_count": 20,
   "id": "0ede5204",
   "metadata": {
    "id": "0ede5204"
   },
   "outputs": [],
   "source": [
    "# Fungsi Time Series mengambil 5 tahun ke belakang\n",
    "def create_dataset(data, look_back=5):\n",
    "    X, Y = [], []\n",
    "    for i in range(len(data)-look_back-1):\n",
    "        X.append(data[i:(i+look_back)])\n",
    "        Y.append(data[i + look_back])\n",
    "    return np.array(X), np.array(Y)\n",
    "\n",
    "features = df_scaled.drop(columns=['Tahun']).columns.tolist()\n",
    "target = ['Belum Kawin', 'Kawin', 'Cerai Hidup', 'Cerai Mati']\n",
    "\n",
    "X_data = df_scaled[features].values\n",
    "y_data = df_scaled[target].values\n",
    "\n",
    "X, y = create_dataset(X_data, look_back=5)"
   ]
  },
  {
   "cell_type": "markdown",
   "id": "a79990ce",
   "metadata": {
    "id": "a79990ce"
   },
   "source": [
    "### Modelling"
   ]
  },
  {
   "cell_type": "code",
   "execution_count": 21,
   "id": "34998a34",
   "metadata": {
    "id": "34998a34"
   },
   "outputs": [],
   "source": [
    "# import library\n",
    "import numpy as np\n",
    "from tensorflow.keras.models import Sequential\n",
    "from tensorflow.keras.layers import *"
   ]
  },
  {
   "cell_type": "code",
   "execution_count": 22,
   "id": "1eb19a91",
   "metadata": {
    "colab": {
     "base_uri": "https://localhost:8080/",
     "height": 376
    },
    "id": "1eb19a91",
    "outputId": "5c65fae1-3e65-4adf-f144-ac60027e4b53"
   },
   "outputs": [
    {
     "name": "stderr",
     "output_type": "stream",
     "text": [
      "c:\\Users\\ACER\\AppData\\Local\\Programs\\Python\\Python310\\lib\\site-packages\\keras\\src\\layers\\convolutional\\base_conv.py:113: UserWarning: Do not pass an `input_shape`/`input_dim` argument to a layer. When using Sequential models, prefer using an `Input(shape)` object as the first layer in the model instead.\n",
      "  super().__init__(activity_regularizer=activity_regularizer, **kwargs)\n"
     ]
    },
    {
     "ename": "ValueError",
     "evalue": "Invalid dtype: object",
     "output_type": "error",
     "traceback": [
      "\u001b[1;31m---------------------------------------------------------------------------\u001b[0m",
      "\u001b[1;31mValueError\u001b[0m                                Traceback (most recent call last)",
      "Cell \u001b[1;32mIn[22], line 7\u001b[0m\n\u001b[0;32m      5\u001b[0m model_cnn\u001b[38;5;241m.\u001b[39madd(Dense(y\u001b[38;5;241m.\u001b[39mshape[\u001b[38;5;241m1\u001b[39m]))\n\u001b[0;32m      6\u001b[0m model_cnn\u001b[38;5;241m.\u001b[39mcompile(optimizer\u001b[38;5;241m=\u001b[39m\u001b[38;5;124m'\u001b[39m\u001b[38;5;124madam\u001b[39m\u001b[38;5;124m'\u001b[39m, loss\u001b[38;5;241m=\u001b[39m\u001b[38;5;124m'\u001b[39m\u001b[38;5;124mmse\u001b[39m\u001b[38;5;124m'\u001b[39m)\n\u001b[1;32m----> 7\u001b[0m history_cnn \u001b[38;5;241m=\u001b[39m \u001b[43mmodel_cnn\u001b[49m\u001b[38;5;241;43m.\u001b[39;49m\u001b[43mfit\u001b[49m\u001b[43m(\u001b[49m\u001b[43mX\u001b[49m\u001b[43m,\u001b[49m\u001b[43m \u001b[49m\u001b[43my\u001b[49m\u001b[43m,\u001b[49m\u001b[43m \u001b[49m\u001b[43mepochs\u001b[49m\u001b[38;5;241;43m=\u001b[39;49m\u001b[38;5;241;43m100\u001b[39;49m\u001b[43m,\u001b[49m\u001b[43m \u001b[49m\u001b[43mbatch_size\u001b[49m\u001b[38;5;241;43m=\u001b[39;49m\u001b[38;5;241;43m8\u001b[39;49m\u001b[43m,\u001b[49m\u001b[43m \u001b[49m\u001b[43mvalidation_split\u001b[49m\u001b[38;5;241;43m=\u001b[39;49m\u001b[38;5;241;43m0.2\u001b[39;49m\u001b[43m,\u001b[49m\u001b[43m \u001b[49m\u001b[43mverbose\u001b[49m\u001b[38;5;241;43m=\u001b[39;49m\u001b[38;5;241;43m0\u001b[39;49m\u001b[43m)\u001b[49m\n",
      "File \u001b[1;32mc:\\Users\\ACER\\AppData\\Local\\Programs\\Python\\Python310\\lib\\site-packages\\keras\\src\\utils\\traceback_utils.py:122\u001b[0m, in \u001b[0;36mfilter_traceback.<locals>.error_handler\u001b[1;34m(*args, **kwargs)\u001b[0m\n\u001b[0;32m    119\u001b[0m     filtered_tb \u001b[38;5;241m=\u001b[39m _process_traceback_frames(e\u001b[38;5;241m.\u001b[39m__traceback__)\n\u001b[0;32m    120\u001b[0m     \u001b[38;5;66;03m# To get the full stack trace, call:\u001b[39;00m\n\u001b[0;32m    121\u001b[0m     \u001b[38;5;66;03m# `keras.config.disable_traceback_filtering()`\u001b[39;00m\n\u001b[1;32m--> 122\u001b[0m     \u001b[38;5;28;01mraise\u001b[39;00m e\u001b[38;5;241m.\u001b[39mwith_traceback(filtered_tb) \u001b[38;5;28;01mfrom\u001b[39;00m\u001b[38;5;250m \u001b[39m\u001b[38;5;28;01mNone\u001b[39;00m\n\u001b[0;32m    123\u001b[0m \u001b[38;5;28;01mfinally\u001b[39;00m:\n\u001b[0;32m    124\u001b[0m     \u001b[38;5;28;01mdel\u001b[39;00m filtered_tb\n",
      "File \u001b[1;32mc:\\Users\\ACER\\AppData\\Local\\Programs\\Python\\Python310\\lib\\site-packages\\optree\\ops.py:766\u001b[0m, in \u001b[0;36mtree_map\u001b[1;34m(func, tree, is_leaf, none_is_leaf, namespace, *rests)\u001b[0m\n\u001b[0;32m    764\u001b[0m leaves, treespec \u001b[38;5;241m=\u001b[39m _C\u001b[38;5;241m.\u001b[39mflatten(tree, is_leaf, none_is_leaf, namespace)\n\u001b[0;32m    765\u001b[0m flat_args \u001b[38;5;241m=\u001b[39m [leaves] \u001b[38;5;241m+\u001b[39m [treespec\u001b[38;5;241m.\u001b[39mflatten_up_to(r) \u001b[38;5;28;01mfor\u001b[39;00m r \u001b[38;5;129;01min\u001b[39;00m rests]\n\u001b[1;32m--> 766\u001b[0m \u001b[38;5;28;01mreturn\u001b[39;00m \u001b[43mtreespec\u001b[49m\u001b[38;5;241;43m.\u001b[39;49m\u001b[43munflatten\u001b[49m\u001b[43m(\u001b[49m\u001b[38;5;28;43mmap\u001b[39;49m\u001b[43m(\u001b[49m\u001b[43mfunc\u001b[49m\u001b[43m,\u001b[49m\u001b[43m \u001b[49m\u001b[38;5;241;43m*\u001b[39;49m\u001b[43mflat_args\u001b[49m\u001b[43m)\u001b[49m\u001b[43m)\u001b[49m\n",
      "\u001b[1;31mValueError\u001b[0m: Invalid dtype: object"
     ]
    }
   ],
   "source": [
    "# Model 1 : CNN\n",
    "model_cnn = Sequential()\n",
    "model_cnn.add(Conv1D(filters=64, kernel_size=2, activation='relu', input_shape=(X.shape[1], X.shape[2])))\n",
    "model_cnn.add(Flatten())\n",
    "model_cnn.add(Dense(y.shape[1]))\n",
    "model_cnn.compile(optimizer='adam', loss='mse')\n",
    "history_cnn = model_cnn.fit(X, y, epochs=100, batch_size=8, validation_split=0.2, verbose=0)"
   ]
  },
  {
   "cell_type": "code",
   "execution_count": null,
   "id": "6f80dbe5",
   "metadata": {
    "colab": {
     "base_uri": "https://localhost:8080/",
     "height": 376
    },
    "id": "6f80dbe5",
    "outputId": "9fde0564-d86c-4aa9-abda-55e454ad4fb2"
   },
   "outputs": [
    {
     "name": "stderr",
     "output_type": "stream",
     "text": [
      "/usr/local/lib/python3.11/dist-packages/keras/src/layers/rnn/rnn.py:200: UserWarning: Do not pass an `input_shape`/`input_dim` argument to a layer. When using Sequential models, prefer using an `Input(shape)` object as the first layer in the model instead.\n",
      "  super().__init__(**kwargs)\n"
     ]
    },
    {
     "ename": "ValueError",
     "evalue": "Invalid dtype: object",
     "output_type": "error",
     "traceback": [
      "\u001b[0;31m---------------------------------------------------------------------------\u001b[0m",
      "\u001b[0;31mValueError\u001b[0m                                Traceback (most recent call last)",
      "\u001b[0;32m<ipython-input-20-2004845623>\u001b[0m in \u001b[0;36m<cell line: 0>\u001b[0;34m()\u001b[0m\n\u001b[1;32m      4\u001b[0m \u001b[0mmodel_lstm\u001b[0m\u001b[0;34m.\u001b[0m\u001b[0madd\u001b[0m\u001b[0;34m(\u001b[0m\u001b[0mDense\u001b[0m\u001b[0;34m(\u001b[0m\u001b[0my\u001b[0m\u001b[0;34m.\u001b[0m\u001b[0mshape\u001b[0m\u001b[0;34m[\u001b[0m\u001b[0;36m1\u001b[0m\u001b[0;34m]\u001b[0m\u001b[0;34m)\u001b[0m\u001b[0;34m)\u001b[0m\u001b[0;34m\u001b[0m\u001b[0;34m\u001b[0m\u001b[0m\n\u001b[1;32m      5\u001b[0m \u001b[0mmodel_lstm\u001b[0m\u001b[0;34m.\u001b[0m\u001b[0mcompile\u001b[0m\u001b[0;34m(\u001b[0m\u001b[0moptimizer\u001b[0m\u001b[0;34m=\u001b[0m\u001b[0;34m'adam'\u001b[0m\u001b[0;34m,\u001b[0m \u001b[0mloss\u001b[0m\u001b[0;34m=\u001b[0m\u001b[0;34m'mse'\u001b[0m\u001b[0;34m)\u001b[0m\u001b[0;34m\u001b[0m\u001b[0;34m\u001b[0m\u001b[0m\n\u001b[0;32m----> 6\u001b[0;31m \u001b[0mhistory_lstm\u001b[0m \u001b[0;34m=\u001b[0m \u001b[0mmodel_lstm\u001b[0m\u001b[0;34m.\u001b[0m\u001b[0mfit\u001b[0m\u001b[0;34m(\u001b[0m\u001b[0mX\u001b[0m\u001b[0;34m,\u001b[0m \u001b[0my\u001b[0m\u001b[0;34m,\u001b[0m \u001b[0mepochs\u001b[0m\u001b[0;34m=\u001b[0m\u001b[0;36m100\u001b[0m\u001b[0;34m,\u001b[0m \u001b[0mbatch_size\u001b[0m\u001b[0;34m=\u001b[0m\u001b[0;36m8\u001b[0m\u001b[0;34m,\u001b[0m \u001b[0mvalidation_split\u001b[0m\u001b[0;34m=\u001b[0m\u001b[0;36m0.2\u001b[0m\u001b[0;34m,\u001b[0m \u001b[0mverbose\u001b[0m\u001b[0;34m=\u001b[0m\u001b[0;36m0\u001b[0m\u001b[0;34m)\u001b[0m\u001b[0;34m\u001b[0m\u001b[0;34m\u001b[0m\u001b[0m\n\u001b[0m",
      "\u001b[0;32m/usr/local/lib/python3.11/dist-packages/keras/src/utils/traceback_utils.py\u001b[0m in \u001b[0;36merror_handler\u001b[0;34m(*args, **kwargs)\u001b[0m\n\u001b[1;32m    120\u001b[0m             \u001b[0;31m# To get the full stack trace, call:\u001b[0m\u001b[0;34m\u001b[0m\u001b[0;34m\u001b[0m\u001b[0m\n\u001b[1;32m    121\u001b[0m             \u001b[0;31m# `keras.config.disable_traceback_filtering()`\u001b[0m\u001b[0;34m\u001b[0m\u001b[0;34m\u001b[0m\u001b[0m\n\u001b[0;32m--> 122\u001b[0;31m             \u001b[0;32mraise\u001b[0m \u001b[0me\u001b[0m\u001b[0;34m.\u001b[0m\u001b[0mwith_traceback\u001b[0m\u001b[0;34m(\u001b[0m\u001b[0mfiltered_tb\u001b[0m\u001b[0;34m)\u001b[0m \u001b[0;32mfrom\u001b[0m \u001b[0;32mNone\u001b[0m\u001b[0;34m\u001b[0m\u001b[0;34m\u001b[0m\u001b[0m\n\u001b[0m\u001b[1;32m    123\u001b[0m         \u001b[0;32mfinally\u001b[0m\u001b[0;34m:\u001b[0m\u001b[0;34m\u001b[0m\u001b[0;34m\u001b[0m\u001b[0m\n\u001b[1;32m    124\u001b[0m             \u001b[0;32mdel\u001b[0m \u001b[0mfiltered_tb\u001b[0m\u001b[0;34m\u001b[0m\u001b[0;34m\u001b[0m\u001b[0m\n",
      "\u001b[0;32m/usr/local/lib/python3.11/dist-packages/optree/ops.py\u001b[0m in \u001b[0;36mtree_map\u001b[0;34m(func, tree, is_leaf, none_is_leaf, namespace, *rests)\u001b[0m\n\u001b[1;32m    764\u001b[0m     \u001b[0mleaves\u001b[0m\u001b[0;34m,\u001b[0m \u001b[0mtreespec\u001b[0m \u001b[0;34m=\u001b[0m \u001b[0m_C\u001b[0m\u001b[0;34m.\u001b[0m\u001b[0mflatten\u001b[0m\u001b[0;34m(\u001b[0m\u001b[0mtree\u001b[0m\u001b[0;34m,\u001b[0m \u001b[0mis_leaf\u001b[0m\u001b[0;34m,\u001b[0m \u001b[0mnone_is_leaf\u001b[0m\u001b[0;34m,\u001b[0m \u001b[0mnamespace\u001b[0m\u001b[0;34m)\u001b[0m\u001b[0;34m\u001b[0m\u001b[0;34m\u001b[0m\u001b[0m\n\u001b[1;32m    765\u001b[0m     \u001b[0mflat_args\u001b[0m \u001b[0;34m=\u001b[0m \u001b[0;34m[\u001b[0m\u001b[0mleaves\u001b[0m\u001b[0;34m]\u001b[0m \u001b[0;34m+\u001b[0m \u001b[0;34m[\u001b[0m\u001b[0mtreespec\u001b[0m\u001b[0;34m.\u001b[0m\u001b[0mflatten_up_to\u001b[0m\u001b[0;34m(\u001b[0m\u001b[0mr\u001b[0m\u001b[0;34m)\u001b[0m \u001b[0;32mfor\u001b[0m \u001b[0mr\u001b[0m \u001b[0;32min\u001b[0m \u001b[0mrests\u001b[0m\u001b[0;34m]\u001b[0m\u001b[0;34m\u001b[0m\u001b[0;34m\u001b[0m\u001b[0m\n\u001b[0;32m--> 766\u001b[0;31m     \u001b[0;32mreturn\u001b[0m \u001b[0mtreespec\u001b[0m\u001b[0;34m.\u001b[0m\u001b[0munflatten\u001b[0m\u001b[0;34m(\u001b[0m\u001b[0mmap\u001b[0m\u001b[0;34m(\u001b[0m\u001b[0mfunc\u001b[0m\u001b[0;34m,\u001b[0m \u001b[0;34m*\u001b[0m\u001b[0mflat_args\u001b[0m\u001b[0;34m)\u001b[0m\u001b[0;34m)\u001b[0m\u001b[0;34m\u001b[0m\u001b[0;34m\u001b[0m\u001b[0m\n\u001b[0m\u001b[1;32m    767\u001b[0m \u001b[0;34m\u001b[0m\u001b[0m\n\u001b[1;32m    768\u001b[0m \u001b[0;34m\u001b[0m\u001b[0m\n",
      "\u001b[0;31mValueError\u001b[0m: Invalid dtype: object"
     ]
    }
   ],
   "source": [
    "# Model 2 :LSTM\n",
    "model_lstm = Sequential()\n",
    "model_lstm.add(LSTM(100, return_sequences=False, input_shape=(X.shape[1], X.shape[2])))\n",
    "model_lstm.add(Dense(y.shape[1]))\n",
    "model_lstm.compile(optimizer='adam', loss='mse')\n",
    "history_lstm = model_lstm.fit(X, y, epochs=100, batch_size=8, validation_split=0.2, verbose=0)"
   ]
  },
  {
   "cell_type": "code",
   "execution_count": null,
   "id": "9612531f",
   "metadata": {
    "colab": {
     "base_uri": "https://localhost:8080/",
     "height": 321
    },
    "id": "9612531f",
    "outputId": "220c3919-f22d-481b-ee12-7cad5e63133b"
   },
   "outputs": [
    {
     "ename": "ValueError",
     "evalue": "Invalid dtype: object",
     "output_type": "error",
     "traceback": [
      "\u001b[0;31m---------------------------------------------------------------------------\u001b[0m",
      "\u001b[0;31mValueError\u001b[0m                                Traceback (most recent call last)",
      "\u001b[0;32m<ipython-input-21-2180863427>\u001b[0m in \u001b[0;36m<cell line: 0>\u001b[0;34m()\u001b[0m\n\u001b[1;32m      5\u001b[0m \u001b[0mmodel_cnn_lstm\u001b[0m\u001b[0;34m.\u001b[0m\u001b[0madd\u001b[0m\u001b[0;34m(\u001b[0m\u001b[0mDense\u001b[0m\u001b[0;34m(\u001b[0m\u001b[0my\u001b[0m\u001b[0;34m.\u001b[0m\u001b[0mshape\u001b[0m\u001b[0;34m[\u001b[0m\u001b[0;36m1\u001b[0m\u001b[0;34m]\u001b[0m\u001b[0;34m)\u001b[0m\u001b[0;34m)\u001b[0m\u001b[0;34m\u001b[0m\u001b[0;34m\u001b[0m\u001b[0m\n\u001b[1;32m      6\u001b[0m \u001b[0mmodel_cnn_lstm\u001b[0m\u001b[0;34m.\u001b[0m\u001b[0mcompile\u001b[0m\u001b[0;34m(\u001b[0m\u001b[0moptimizer\u001b[0m\u001b[0;34m=\u001b[0m\u001b[0;34m'adam'\u001b[0m\u001b[0;34m,\u001b[0m \u001b[0mloss\u001b[0m\u001b[0;34m=\u001b[0m\u001b[0;34m'mse'\u001b[0m\u001b[0;34m)\u001b[0m\u001b[0;34m\u001b[0m\u001b[0;34m\u001b[0m\u001b[0m\n\u001b[0;32m----> 7\u001b[0;31m \u001b[0mhistory_cnn_lstm\u001b[0m \u001b[0;34m=\u001b[0m \u001b[0mmodel_cnn_lstm\u001b[0m\u001b[0;34m.\u001b[0m\u001b[0mfit\u001b[0m\u001b[0;34m(\u001b[0m\u001b[0mX\u001b[0m\u001b[0;34m,\u001b[0m \u001b[0my\u001b[0m\u001b[0;34m,\u001b[0m \u001b[0mepochs\u001b[0m\u001b[0;34m=\u001b[0m\u001b[0;36m100\u001b[0m\u001b[0;34m,\u001b[0m \u001b[0mbatch_size\u001b[0m\u001b[0;34m=\u001b[0m\u001b[0;36m8\u001b[0m\u001b[0;34m,\u001b[0m \u001b[0mvalidation_split\u001b[0m\u001b[0;34m=\u001b[0m\u001b[0;36m0.2\u001b[0m\u001b[0;34m,\u001b[0m \u001b[0mverbose\u001b[0m\u001b[0;34m=\u001b[0m\u001b[0;36m0\u001b[0m\u001b[0;34m)\u001b[0m\u001b[0;34m\u001b[0m\u001b[0;34m\u001b[0m\u001b[0m\n\u001b[0m",
      "\u001b[0;32m/usr/local/lib/python3.11/dist-packages/keras/src/utils/traceback_utils.py\u001b[0m in \u001b[0;36merror_handler\u001b[0;34m(*args, **kwargs)\u001b[0m\n\u001b[1;32m    120\u001b[0m             \u001b[0;31m# To get the full stack trace, call:\u001b[0m\u001b[0;34m\u001b[0m\u001b[0;34m\u001b[0m\u001b[0m\n\u001b[1;32m    121\u001b[0m             \u001b[0;31m# `keras.config.disable_traceback_filtering()`\u001b[0m\u001b[0;34m\u001b[0m\u001b[0;34m\u001b[0m\u001b[0m\n\u001b[0;32m--> 122\u001b[0;31m             \u001b[0;32mraise\u001b[0m \u001b[0me\u001b[0m\u001b[0;34m.\u001b[0m\u001b[0mwith_traceback\u001b[0m\u001b[0;34m(\u001b[0m\u001b[0mfiltered_tb\u001b[0m\u001b[0;34m)\u001b[0m \u001b[0;32mfrom\u001b[0m \u001b[0;32mNone\u001b[0m\u001b[0;34m\u001b[0m\u001b[0;34m\u001b[0m\u001b[0m\n\u001b[0m\u001b[1;32m    123\u001b[0m         \u001b[0;32mfinally\u001b[0m\u001b[0;34m:\u001b[0m\u001b[0;34m\u001b[0m\u001b[0;34m\u001b[0m\u001b[0m\n\u001b[1;32m    124\u001b[0m             \u001b[0;32mdel\u001b[0m \u001b[0mfiltered_tb\u001b[0m\u001b[0;34m\u001b[0m\u001b[0;34m\u001b[0m\u001b[0m\n",
      "\u001b[0;32m/usr/local/lib/python3.11/dist-packages/optree/ops.py\u001b[0m in \u001b[0;36mtree_map\u001b[0;34m(func, tree, is_leaf, none_is_leaf, namespace, *rests)\u001b[0m\n\u001b[1;32m    764\u001b[0m     \u001b[0mleaves\u001b[0m\u001b[0;34m,\u001b[0m \u001b[0mtreespec\u001b[0m \u001b[0;34m=\u001b[0m \u001b[0m_C\u001b[0m\u001b[0;34m.\u001b[0m\u001b[0mflatten\u001b[0m\u001b[0;34m(\u001b[0m\u001b[0mtree\u001b[0m\u001b[0;34m,\u001b[0m \u001b[0mis_leaf\u001b[0m\u001b[0;34m,\u001b[0m \u001b[0mnone_is_leaf\u001b[0m\u001b[0;34m,\u001b[0m \u001b[0mnamespace\u001b[0m\u001b[0;34m)\u001b[0m\u001b[0;34m\u001b[0m\u001b[0;34m\u001b[0m\u001b[0m\n\u001b[1;32m    765\u001b[0m     \u001b[0mflat_args\u001b[0m \u001b[0;34m=\u001b[0m \u001b[0;34m[\u001b[0m\u001b[0mleaves\u001b[0m\u001b[0;34m]\u001b[0m \u001b[0;34m+\u001b[0m \u001b[0;34m[\u001b[0m\u001b[0mtreespec\u001b[0m\u001b[0;34m.\u001b[0m\u001b[0mflatten_up_to\u001b[0m\u001b[0;34m(\u001b[0m\u001b[0mr\u001b[0m\u001b[0;34m)\u001b[0m \u001b[0;32mfor\u001b[0m \u001b[0mr\u001b[0m \u001b[0;32min\u001b[0m \u001b[0mrests\u001b[0m\u001b[0;34m]\u001b[0m\u001b[0;34m\u001b[0m\u001b[0;34m\u001b[0m\u001b[0m\n\u001b[0;32m--> 766\u001b[0;31m     \u001b[0;32mreturn\u001b[0m \u001b[0mtreespec\u001b[0m\u001b[0;34m.\u001b[0m\u001b[0munflatten\u001b[0m\u001b[0;34m(\u001b[0m\u001b[0mmap\u001b[0m\u001b[0;34m(\u001b[0m\u001b[0mfunc\u001b[0m\u001b[0;34m,\u001b[0m \u001b[0;34m*\u001b[0m\u001b[0mflat_args\u001b[0m\u001b[0;34m)\u001b[0m\u001b[0;34m)\u001b[0m\u001b[0;34m\u001b[0m\u001b[0;34m\u001b[0m\u001b[0m\n\u001b[0m\u001b[1;32m    767\u001b[0m \u001b[0;34m\u001b[0m\u001b[0m\n\u001b[1;32m    768\u001b[0m \u001b[0;34m\u001b[0m\u001b[0m\n",
      "\u001b[0;31mValueError\u001b[0m: Invalid dtype: object"
     ]
    }
   ],
   "source": [
    "# Model 3 : CNN-LSTM\n",
    "model_cnn_lstm = Sequential()\n",
    "model_cnn_lstm.add(Conv1D(filters=64, kernel_size=2, activation='relu', input_shape=(X.shape[1], X.shape[2])))\n",
    "model_cnn_lstm.add(LSTM(100, return_sequences=False))\n",
    "model_cnn_lstm.add(Dense(y.shape[1]))\n",
    "model_cnn_lstm.compile(optimizer='adam', loss='mse')\n",
    "history_cnn_lstm = model_cnn_lstm.fit(X, y, epochs=100, batch_size=8, validation_split=0.2, verbose=0)"
   ]
  },
  {
   "cell_type": "markdown",
   "id": "51bdafa0",
   "metadata": {
    "id": "51bdafa0"
   },
   "source": [
    "### Evaluasi Model"
   ]
  },
  {
   "cell_type": "code",
   "execution_count": null,
   "id": "8106fef6",
   "metadata": {
    "id": "8106fef6"
   },
   "outputs": [],
   "source": [
    "# import library\n",
    "import numpy as np\n",
    "from sklearn.metrics import mean_squared_error, mean_absolute_error, r2_score\n",
    "import matplotlib.pyplot as plt"
   ]
  },
  {
   "cell_type": "code",
   "execution_count": null,
   "id": "6c3eddb7",
   "metadata": {
    "id": "6c3eddb7"
   },
   "outputs": [],
   "source": [
    "# evaluasi setiap model\n",
    "def evaluate_model(model, name):\n",
    "    predicted = model.predict(X)\n",
    "\n",
    "    rmse = np.sqrt(mean_squared_error(y, predicted))\n",
    "    mae = mean_absolute_error(y, predicted)\n",
    "    r2 = r2_score(y, predicted)\n",
    "\n",
    "    print(f\"\\n[{name}]\")\n",
    "    print(f\"RMSE: {rmse:.4f}\")\n",
    "    print(f\"MAE : {mae:.4f}\")\n",
    "    print(f\"R²  : {r2:.4f}\")\n",
    "    return rmse, mae, r2\n",
    "\n",
    "results = {}\n",
    "results['CNN'] = evaluate_model(model_cnn, \"CNN\")\n",
    "results['LSTM'] = evaluate_model(model_lstm, \"LSTM\")\n",
    "results['CNN-LSTM'] = evaluate_model(model_cnn_lstm, \"CNN-LSTM\")"
   ]
  },
  {
   "cell_type": "code",
   "execution_count": null,
   "id": "45f9dd07",
   "metadata": {
    "id": "45f9dd07"
   },
   "outputs": [],
   "source": [
    "# prediksi tahun 2025\n",
    "last_5_years = X[-1:]  # Input terakhir dari data\n",
    "\n",
    "predicted_cnn = model_cnn.predict(last_5_years)\n",
    "predicted_lstm = model_lstm.predict(last_5_years)\n",
    "predicted_cnn_lstm = model_cnn_lstm.predict(last_5_years)"
   ]
  },
  {
   "cell_type": "code",
   "execution_count": null,
   "id": "eb17bb14",
   "metadata": {
    "id": "eb17bb14"
   },
   "outputs": [],
   "source": [
    "# inverse scaling\n",
    "pred_cnn_unscaled = scaler.inverse_transform(np.hstack((last_5_years[:, -1, 0].reshape(-1, 1), predicted_cnn)))[:, 1:]\n",
    "pred_lstm_unscaled = scaler.inverse_transform(np.hstack((last_5_years[:, -1, 0].reshape(-1, 1), predicted_lstm)))[:, 1:]\n",
    "pred_cnn_lstm_unscaled = scaler.inverse_transform(np.hstack((last_5_years[:, -1, 0].reshape(-1, 1), predicted_cnn_lstm)))[:, 1:]"
   ]
  },
  {
   "cell_type": "code",
   "execution_count": null,
   "id": "4b772bdd",
   "metadata": {
    "id": "4b772bdd"
   },
   "outputs": [],
   "source": [
    "# visualisasi prediksi\n",
    "labels = ['Belum Kawin', 'Kawin', 'Cerai hidup', 'Cerai mati']\n",
    "\n",
    "plt.figure(figsize=(14, 6))\n",
    "\n",
    "plt.subplot(1, 3, 1)\n",
    "x_indexes = np.arange(len(labels))\n",
    "plt.bar(x_indexes, pred_cnn_unscaled[0], width=0.6, label='Prediksi CNN')\n",
    "plt.xticks(x_indexes, labels)\n",
    "plt.title('CNN Prediction')\n",
    "plt.grid(True)\n",
    "\n",
    "plt.subplot(1, 3, 2)\n",
    "plt.bar(x_indexes, pred_lstm_unscaled[0], width=0.6, label='Prediksi LSTM')\n",
    "plt.xticks(x_indexes, labels)\n",
    "plt.title('LSTM Prediction')\n",
    "plt.grid(True)\n",
    "\n",
    "plt.subplot(1, 3, 3)\n",
    "plt.bar(x_indexes, pred_cnn_lstm_unscaled[0], width=0.6, label='Prediksi CNN-LSTM')\n",
    "plt.xticks(x_indexes, labels)\n",
    "plt.title('CNN-LSTM Prediction')\n",
    "plt.grid(True)\n",
    "\n",
    "plt.tight_layout()\n",
    "plt.show()"
   ]
  },
  {
   "cell_type": "markdown",
   "id": "b58f231f",
   "metadata": {
    "id": "b58f231f"
   },
   "source": [
    "### Deploy\n"
   ]
  },
  {
   "cell_type": "code",
   "execution_count": null,
   "id": "c4cd2bb5",
   "metadata": {
    "id": "c4cd2bb5"
   },
   "outputs": [],
   "source": [
    "from tensorflow.keras.models import save_model\n",
    "\n",
    "\n",
    "# menyimpan model terbaik\n",
    "save_model(model_cnn_lstm, \"model_cnn_lstm_2025.h5\")"
   ]
  }
 ],
 "metadata": {
  "kernelspec": {
   "display_name": "Python 3",
   "language": "python",
   "name": "python3"
  },
  "language_info": {
   "codemirror_mode": {
    "name": "ipython",
    "version": 3
   },
   "file_extension": ".py",
   "mimetype": "text/x-python",
   "name": "python",
   "nbconvert_exporter": "python",
   "pygments_lexer": "ipython3",
   "version": "3.10.0"
  }
 },
 "nbformat": 4,
 "nbformat_minor": 5
}
