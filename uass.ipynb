{
 "cells": [
  {
   "cell_type": "code",
   "execution_count": 1,
   "id": "922f8988",
   "metadata": {},
   "outputs": [],
   "source": [
    "import pandas as pd\n",
    "import numpy as np\n",
    "import matplotlib.pyplot as plt"
   ]
  },
  {
   "cell_type": "code",
   "execution_count": 2,
   "id": "af6343c9",
   "metadata": {},
   "outputs": [],
   "source": [
    "from sklearn.preprocessing import LabelEncoder, MinMaxScaler\n",
    "from sklearn.model_selection import train_test_split\n",
    "from sklearn.metrics import mean_squared_error"
   ]
  },
  {
   "cell_type": "code",
   "execution_count": 24,
   "id": "f48adecf",
   "metadata": {},
   "outputs": [],
   "source": [
    "from tensorflow.keras.models import Sequential\n",
    "from tensorflow.keras.layers import Dense, Dropout, Conv1D, LSTM, Flatten\n",
    "from tensorflow.keras.layers import TimeDistributed\n",
    "from tensorflow.keras.callbacks import EarlyStopping"
   ]
  },
  {
   "cell_type": "code",
   "execution_count": 4,
   "id": "7690956e",
   "metadata": {},
   "outputs": [],
   "source": [
    "# Load Data\n",
    "df = pd.read_excel(\"rumah_tangga.xlsx\")"
   ]
  },
  {
   "cell_type": "code",
   "execution_count": 5,
   "id": "a26e8bfe",
   "metadata": {},
   "outputs": [
    {
     "data": {
      "application/vnd.microsoft.datawrangler.viewer.v0+json": {
       "columns": [
        {
         "name": "index",
         "rawType": "int64",
         "type": "integer"
        },
        {
         "name": "No",
         "rawType": "int64",
         "type": "integer"
        },
        {
         "name": "Daerah",
         "rawType": "object",
         "type": "string"
        },
        {
         "name": "Kelompok Umur",
         "rawType": "object",
         "type": "string"
        },
        {
         "name": "Tahun",
         "rawType": "int64",
         "type": "integer"
        },
        {
         "name": "Belum Kawin",
         "rawType": "float64",
         "type": "float"
        },
        {
         "name": "Kawin",
         "rawType": "float64",
         "type": "float"
        },
        {
         "name": "Cerai Hidup",
         "rawType": "float64",
         "type": "float"
        },
        {
         "name": "Cerai Mati",
         "rawType": "float64",
         "type": "float"
        },
        {
         "name": "Jenis Kelamin",
         "rawType": "object",
         "type": "string"
        }
       ],
       "conversionMethod": "pd.DataFrame",
       "ref": "3ffac6e8-3245-4acd-a993-5179c0a2b98a",
       "rows": [
        [
         "0",
         "1",
         "Perkotaan",
         "10-24",
         "2009",
         "91.63",
         "4.11",
         "3.3",
         "0.97",
         "Perempuan"
        ],
        [
         "1",
         "2",
         "Perkotaan",
         "25-44",
         "2009",
         "21.24",
         "20.57",
         "30.22",
         "27.97",
         "Perempuan"
        ],
        [
         "2",
         "3",
         "Perkotaan",
         "45-59",
         "2009",
         "3.23",
         "6.52",
         "17.38",
         "72.88",
         "Perempuan"
        ],
        [
         "3",
         "4",
         "Perkotaan",
         "60+",
         "2009",
         "1.35",
         "2.08",
         "5.04",
         "91.52",
         "Perempuan"
        ],
        [
         "4",
         "5",
         "Pedesaan",
         "10-24",
         "2009",
         "42.37",
         "37.71",
         "15.46",
         "4.46",
         "Perempuan"
        ]
       ],
       "shape": {
        "columns": 9,
        "rows": 5
       }
      },
      "text/html": [
       "<div>\n",
       "<style scoped>\n",
       "    .dataframe tbody tr th:only-of-type {\n",
       "        vertical-align: middle;\n",
       "    }\n",
       "\n",
       "    .dataframe tbody tr th {\n",
       "        vertical-align: top;\n",
       "    }\n",
       "\n",
       "    .dataframe thead th {\n",
       "        text-align: right;\n",
       "    }\n",
       "</style>\n",
       "<table border=\"1\" class=\"dataframe\">\n",
       "  <thead>\n",
       "    <tr style=\"text-align: right;\">\n",
       "      <th></th>\n",
       "      <th>No</th>\n",
       "      <th>Daerah</th>\n",
       "      <th>Kelompok Umur</th>\n",
       "      <th>Tahun</th>\n",
       "      <th>Belum Kawin</th>\n",
       "      <th>Kawin</th>\n",
       "      <th>Cerai Hidup</th>\n",
       "      <th>Cerai Mati</th>\n",
       "      <th>Jenis Kelamin</th>\n",
       "    </tr>\n",
       "  </thead>\n",
       "  <tbody>\n",
       "    <tr>\n",
       "      <th>0</th>\n",
       "      <td>1</td>\n",
       "      <td>Perkotaan</td>\n",
       "      <td>10-24</td>\n",
       "      <td>2009</td>\n",
       "      <td>91.63</td>\n",
       "      <td>4.11</td>\n",
       "      <td>3.30</td>\n",
       "      <td>0.97</td>\n",
       "      <td>Perempuan</td>\n",
       "    </tr>\n",
       "    <tr>\n",
       "      <th>1</th>\n",
       "      <td>2</td>\n",
       "      <td>Perkotaan</td>\n",
       "      <td>25-44</td>\n",
       "      <td>2009</td>\n",
       "      <td>21.24</td>\n",
       "      <td>20.57</td>\n",
       "      <td>30.22</td>\n",
       "      <td>27.97</td>\n",
       "      <td>Perempuan</td>\n",
       "    </tr>\n",
       "    <tr>\n",
       "      <th>2</th>\n",
       "      <td>3</td>\n",
       "      <td>Perkotaan</td>\n",
       "      <td>45-59</td>\n",
       "      <td>2009</td>\n",
       "      <td>3.23</td>\n",
       "      <td>6.52</td>\n",
       "      <td>17.38</td>\n",
       "      <td>72.88</td>\n",
       "      <td>Perempuan</td>\n",
       "    </tr>\n",
       "    <tr>\n",
       "      <th>3</th>\n",
       "      <td>4</td>\n",
       "      <td>Perkotaan</td>\n",
       "      <td>60+</td>\n",
       "      <td>2009</td>\n",
       "      <td>1.35</td>\n",
       "      <td>2.08</td>\n",
       "      <td>5.04</td>\n",
       "      <td>91.52</td>\n",
       "      <td>Perempuan</td>\n",
       "    </tr>\n",
       "    <tr>\n",
       "      <th>4</th>\n",
       "      <td>5</td>\n",
       "      <td>Pedesaan</td>\n",
       "      <td>10-24</td>\n",
       "      <td>2009</td>\n",
       "      <td>42.37</td>\n",
       "      <td>37.71</td>\n",
       "      <td>15.46</td>\n",
       "      <td>4.46</td>\n",
       "      <td>Perempuan</td>\n",
       "    </tr>\n",
       "  </tbody>\n",
       "</table>\n",
       "</div>"
      ],
      "text/plain": [
       "   No     Daerah Kelompok Umur  Tahun  Belum Kawin  Kawin  Cerai Hidup  \\\n",
       "0   1  Perkotaan         10-24   2009        91.63   4.11         3.30   \n",
       "1   2  Perkotaan         25-44   2009        21.24  20.57        30.22   \n",
       "2   3  Perkotaan         45-59   2009         3.23   6.52        17.38   \n",
       "3   4  Perkotaan           60+   2009         1.35   2.08         5.04   \n",
       "4   5   Pedesaan         10-24   2009        42.37  37.71        15.46   \n",
       "\n",
       "   Cerai Mati Jenis Kelamin  \n",
       "0        0.97     Perempuan  \n",
       "1       27.97     Perempuan  \n",
       "2       72.88     Perempuan  \n",
       "3       91.52     Perempuan  \n",
       "4        4.46     Perempuan  "
      ]
     },
     "execution_count": 5,
     "metadata": {},
     "output_type": "execute_result"
    }
   ],
   "source": [
    "# Menampilkan 5 data teratas\n",
    "df.head()"
   ]
  },
  {
   "cell_type": "code",
   "execution_count": 6,
   "id": "280ac70e",
   "metadata": {},
   "outputs": [
    {
     "name": "stdout",
     "output_type": "stream",
     "text": [
      "<class 'pandas.core.frame.DataFrame'>\n",
      "RangeIndex: 368 entries, 0 to 367\n",
      "Data columns (total 9 columns):\n",
      " #   Column         Non-Null Count  Dtype  \n",
      "---  ------         --------------  -----  \n",
      " 0   No             368 non-null    int64  \n",
      " 1   Daerah         368 non-null    object \n",
      " 2   Kelompok Umur  368 non-null    object \n",
      " 3   Tahun          368 non-null    int64  \n",
      " 4   Belum Kawin    368 non-null    float64\n",
      " 5   Kawin          368 non-null    float64\n",
      " 6   Cerai Hidup    368 non-null    float64\n",
      " 7   Cerai Mati     368 non-null    float64\n",
      " 8   Jenis Kelamin  368 non-null    object \n",
      "dtypes: float64(4), int64(2), object(3)\n",
      "memory usage: 26.0+ KB\n"
     ]
    }
   ],
   "source": [
    "# Menampilkan info kolom\n",
    "df.info()"
   ]
  },
  {
   "cell_type": "code",
   "execution_count": 8,
   "metadata": {},
   "outputs": [
    {
     "data": {
      "text/plain": [
       "No               0\n",
       "Daerah           0\n",
       "Kelompok Umur    0\n",
       "Tahun            0\n",
       "Belum Kawin      0\n",
       "Kawin            0\n",
       "Cerai Hidup      0\n",
       "Cerai Mati       0\n",
       "Jenis Kelamin    0\n",
       "dtype: int64"
      ]
     },
     "execution_count": 8,
     "metadata": {},
     "output_type": "execute_result"
    }
   ],
   "source": [
    "# Mengecek missing value\n",
    "df.isnull().sum()"
   ]
  },
  {
   "cell_type": "code",
   "execution_count": 7,
   "id": "bd1ce9e6",
   "metadata": {},
   "outputs": [],
   "source": [
    "# Menghapus baris yang memiliki missing values\n",
    "df.dropna(inplace=True)"
   ]
  },
  {
   "cell_type": "code",
   "execution_count": 9,
   "id": "f5a0cd2f",
   "metadata": {},
   "outputs": [],
   "source": [
    "# Menyaring data hanya untuk jenis kelamin perempuan\n",
    "df_perempuan = df[df['Jenis Kelamin'] == 'Perempuan'].copy()"
   ]
  },
  {
   "cell_type": "code",
   "execution_count": 10,
   "id": "3771cdf9",
   "metadata": {},
   "outputs": [
    {
     "name": "stdout",
     "output_type": "stream",
     "text": [
      "Jumlah data perempuan: (176, 9)\n"
     ]
    }
   ],
   "source": [
    "# Menampilkan jumlah data setelah disaring\n",
    "print(\"Jumlah data perempuan:\", df_perempuan.shape)"
   ]
  },
  {
   "cell_type": "code",
   "execution_count": 11,
   "id": "28151d3f",
   "metadata": {},
   "outputs": [
    {
     "data": {
      "text/plain": [
       "No               0\n",
       "Daerah           0\n",
       "Kelompok Umur    0\n",
       "Tahun            0\n",
       "Belum Kawin      0\n",
       "Kawin            0\n",
       "Cerai Hidup      0\n",
       "Cerai Mati       0\n",
       "Jenis Kelamin    0\n",
       "dtype: int64"
      ]
     },
     "execution_count": 11,
     "metadata": {},
     "output_type": "execute_result"
    }
   ],
   "source": [
    "# Mengecek kembali missing value setelah filter\n",
    "df_perempuan.isnull().sum()"
   ]
  },
  {
   "cell_type": "code",
   "execution_count": 12,
   "id": "ed023c5d",
   "metadata": {},
   "outputs": [],
   "source": [
    "# Konversi kolom target menjadi numerik\n",
    "target_cols = ['Belum Kawin', 'Kawin', 'Cerai Hidup', 'Cerai Mati']\n",
    "for col in target_cols:\n",
    "    df_perempuan[col] = pd.to_numeric(df_perempuan[col], errors='coerce')"
   ]
  },
  {
   "cell_type": "code",
   "execution_count": 13,
   "id": "97e31d66",
   "metadata": {},
   "outputs": [
    {
     "data": {
      "text/plain": [
       "Belum Kawin    0\n",
       "Kawin          0\n",
       "Cerai Hidup    0\n",
       "Cerai Mati     0\n",
       "dtype: int64"
      ]
     },
     "execution_count": 13,
     "metadata": {},
     "output_type": "execute_result"
    }
   ],
   "source": [
    "# Mengecek kembali apakah ada nilai NaN setelah konversi\n",
    "df_perempuan[target_cols].isnull().sum()\n"
   ]
  },
  {
   "cell_type": "code",
   "execution_count": 14,
   "id": "1fcd2ff4",
   "metadata": {},
   "outputs": [],
   "source": [
    "# Melakukan one-hot encoding pada kolom kategori\n",
    "df_perempuan = pd.get_dummies(df_perempuan, columns=['Daerah', 'Kelompok Umur'])"
   ]
  },
  {
   "cell_type": "code",
   "execution_count": 15,
   "id": "543aaf84",
   "metadata": {},
   "outputs": [],
   "source": [
    "# Normalisasi nilai target\n",
    "scaler = MinMaxScaler()\n",
    "df_perempuan[target_cols] = scaler.fit_transform(df_perempuan[target_cols])"
   ]
  },
  {
   "cell_type": "code",
   "execution_count": 16,
   "id": "1b9085a8",
   "metadata": {},
   "outputs": [
    {
     "data": {
      "application/vnd.microsoft.datawrangler.viewer.v0+json": {
       "columns": [
        {
         "name": "index",
         "rawType": "int64",
         "type": "integer"
        },
        {
         "name": "No",
         "rawType": "int64",
         "type": "integer"
        },
        {
         "name": "Tahun",
         "rawType": "int64",
         "type": "integer"
        },
        {
         "name": "Belum Kawin",
         "rawType": "float64",
         "type": "float"
        },
        {
         "name": "Kawin",
         "rawType": "float64",
         "type": "float"
        },
        {
         "name": "Cerai Hidup",
         "rawType": "float64",
         "type": "float"
        },
        {
         "name": "Cerai Mati",
         "rawType": "float64",
         "type": "float"
        },
        {
         "name": "Jenis Kelamin",
         "rawType": "object",
         "type": "string"
        },
        {
         "name": "Daerah_Pedesaan",
         "rawType": "bool",
         "type": "boolean"
        },
        {
         "name": "Daerah_Perkotaan",
         "rawType": "bool",
         "type": "boolean"
        },
        {
         "name": "Daerah_Perkotaan +  Pedesaan",
         "rawType": "bool",
         "type": "boolean"
        },
        {
         "name": "Kelompok Umur_10-24",
         "rawType": "bool",
         "type": "boolean"
        },
        {
         "name": "Kelompok Umur_25-44",
         "rawType": "bool",
         "type": "boolean"
        },
        {
         "name": "Kelompok Umur_45-59",
         "rawType": "bool",
         "type": "boolean"
        },
        {
         "name": "Kelompok Umur_60+",
         "rawType": "bool",
         "type": "boolean"
        }
       ],
       "conversionMethod": "pd.DataFrame",
       "ref": "afec350a-f68f-48a8-a7a3-e6354c278c13",
       "rows": [
        [
         "0",
         "1",
         "2009",
         "0.9601737104120326",
         "0.052151238591916574",
         "0.04519331243469174",
         "0.010583742498636115",
         "Perempuan",
         "False",
         "True",
         "False",
         "True",
         "False",
         "False",
         "False"
        ],
        [
         "1",
         "2",
         "2009",
         "0.21459591145005824",
         "0.4098218166014777",
         "0.7484326018808777",
         "0.3051827605019094",
         "Perempuan",
         "False",
         "True",
         "False",
         "False",
         "True",
         "False",
         "False"
        ],
        [
         "2",
         "3",
         "2009",
         "0.023832221163012396",
         "0.10451977401129944",
         "0.4130094043887147",
         "0.7951991271140206",
         "Perempuan",
         "False",
         "True",
         "False",
         "False",
         "False",
         "True",
         "False"
        ],
        [
         "3",
         "4",
         "2009",
         "0.003919076369028706",
         "0.008039982616253806",
         "0.0906478578892372",
         "0.9985815602836878",
         "Perempuan",
         "False",
         "True",
         "False",
         "False",
         "False",
         "False",
         "True"
        ],
        [
         "4",
         "5",
         "2009",
         "0.4384069484164813",
         "0.7822685788787485",
         "0.36285266457680254",
         "0.0486633933442444",
         "Perempuan",
         "True",
         "False",
         "False",
         "True",
         "False",
         "False",
         "False"
        ]
       ],
       "shape": {
        "columns": 14,
        "rows": 5
       }
      },
      "text/html": [
       "<div>\n",
       "<style scoped>\n",
       "    .dataframe tbody tr th:only-of-type {\n",
       "        vertical-align: middle;\n",
       "    }\n",
       "\n",
       "    .dataframe tbody tr th {\n",
       "        vertical-align: top;\n",
       "    }\n",
       "\n",
       "    .dataframe thead th {\n",
       "        text-align: right;\n",
       "    }\n",
       "</style>\n",
       "<table border=\"1\" class=\"dataframe\">\n",
       "  <thead>\n",
       "    <tr style=\"text-align: right;\">\n",
       "      <th></th>\n",
       "      <th>No</th>\n",
       "      <th>Tahun</th>\n",
       "      <th>Belum Kawin</th>\n",
       "      <th>Kawin</th>\n",
       "      <th>Cerai Hidup</th>\n",
       "      <th>Cerai Mati</th>\n",
       "      <th>Jenis Kelamin</th>\n",
       "      <th>Daerah_Pedesaan</th>\n",
       "      <th>Daerah_Perkotaan</th>\n",
       "      <th>Daerah_Perkotaan +  Pedesaan</th>\n",
       "      <th>Kelompok Umur_10-24</th>\n",
       "      <th>Kelompok Umur_25-44</th>\n",
       "      <th>Kelompok Umur_45-59</th>\n",
       "      <th>Kelompok Umur_60+</th>\n",
       "    </tr>\n",
       "  </thead>\n",
       "  <tbody>\n",
       "    <tr>\n",
       "      <th>0</th>\n",
       "      <td>1</td>\n",
       "      <td>2009</td>\n",
       "      <td>0.960174</td>\n",
       "      <td>0.052151</td>\n",
       "      <td>0.045193</td>\n",
       "      <td>0.010584</td>\n",
       "      <td>Perempuan</td>\n",
       "      <td>False</td>\n",
       "      <td>True</td>\n",
       "      <td>False</td>\n",
       "      <td>True</td>\n",
       "      <td>False</td>\n",
       "      <td>False</td>\n",
       "      <td>False</td>\n",
       "    </tr>\n",
       "    <tr>\n",
       "      <th>1</th>\n",
       "      <td>2</td>\n",
       "      <td>2009</td>\n",
       "      <td>0.214596</td>\n",
       "      <td>0.409822</td>\n",
       "      <td>0.748433</td>\n",
       "      <td>0.305183</td>\n",
       "      <td>Perempuan</td>\n",
       "      <td>False</td>\n",
       "      <td>True</td>\n",
       "      <td>False</td>\n",
       "      <td>False</td>\n",
       "      <td>True</td>\n",
       "      <td>False</td>\n",
       "      <td>False</td>\n",
       "    </tr>\n",
       "    <tr>\n",
       "      <th>2</th>\n",
       "      <td>3</td>\n",
       "      <td>2009</td>\n",
       "      <td>0.023832</td>\n",
       "      <td>0.104520</td>\n",
       "      <td>0.413009</td>\n",
       "      <td>0.795199</td>\n",
       "      <td>Perempuan</td>\n",
       "      <td>False</td>\n",
       "      <td>True</td>\n",
       "      <td>False</td>\n",
       "      <td>False</td>\n",
       "      <td>False</td>\n",
       "      <td>True</td>\n",
       "      <td>False</td>\n",
       "    </tr>\n",
       "    <tr>\n",
       "      <th>3</th>\n",
       "      <td>4</td>\n",
       "      <td>2009</td>\n",
       "      <td>0.003919</td>\n",
       "      <td>0.008040</td>\n",
       "      <td>0.090648</td>\n",
       "      <td>0.998582</td>\n",
       "      <td>Perempuan</td>\n",
       "      <td>False</td>\n",
       "      <td>True</td>\n",
       "      <td>False</td>\n",
       "      <td>False</td>\n",
       "      <td>False</td>\n",
       "      <td>False</td>\n",
       "      <td>True</td>\n",
       "    </tr>\n",
       "    <tr>\n",
       "      <th>4</th>\n",
       "      <td>5</td>\n",
       "      <td>2009</td>\n",
       "      <td>0.438407</td>\n",
       "      <td>0.782269</td>\n",
       "      <td>0.362853</td>\n",
       "      <td>0.048663</td>\n",
       "      <td>Perempuan</td>\n",
       "      <td>True</td>\n",
       "      <td>False</td>\n",
       "      <td>False</td>\n",
       "      <td>True</td>\n",
       "      <td>False</td>\n",
       "      <td>False</td>\n",
       "      <td>False</td>\n",
       "    </tr>\n",
       "  </tbody>\n",
       "</table>\n",
       "</div>"
      ],
      "text/plain": [
       "   No  Tahun  Belum Kawin     Kawin  Cerai Hidup  Cerai Mati Jenis Kelamin  \\\n",
       "0   1   2009     0.960174  0.052151     0.045193    0.010584     Perempuan   \n",
       "1   2   2009     0.214596  0.409822     0.748433    0.305183     Perempuan   \n",
       "2   3   2009     0.023832  0.104520     0.413009    0.795199     Perempuan   \n",
       "3   4   2009     0.003919  0.008040     0.090648    0.998582     Perempuan   \n",
       "4   5   2009     0.438407  0.782269     0.362853    0.048663     Perempuan   \n",
       "\n",
       "   Daerah_Pedesaan  Daerah_Perkotaan  Daerah_Perkotaan +  Pedesaan  \\\n",
       "0            False              True                         False   \n",
       "1            False              True                         False   \n",
       "2            False              True                         False   \n",
       "3            False              True                         False   \n",
       "4             True             False                         False   \n",
       "\n",
       "   Kelompok Umur_10-24  Kelompok Umur_25-44  Kelompok Umur_45-59  \\\n",
       "0                 True                False                False   \n",
       "1                False                 True                False   \n",
       "2                False                False                 True   \n",
       "3                False                False                False   \n",
       "4                 True                False                False   \n",
       "\n",
       "   Kelompok Umur_60+  \n",
       "0              False  \n",
       "1              False  \n",
       "2              False  \n",
       "3               True  \n",
       "4              False  "
      ]
     },
     "execution_count": 16,
     "metadata": {},
     "output_type": "execute_result"
    }
   ],
   "source": [
    "# Menampilkan data setelah diproses\n",
    "df_perempuan.head()"
   ]
  },
  {
   "cell_type": "code",
   "execution_count": 17,
   "id": "a8381c28",
   "metadata": {},
   "outputs": [],
   "source": [
    "# Fungsi untuk membuat dataset time series\n",
    "def create_dataset(data, time_steps=5):\n",
    "    X, y = [], []\n",
    "    for i in range(len(data) - time_steps):\n",
    "        X.append(data[i:(i + time_steps)])\n",
    "        y.append(data[i + time_steps])\n",
    "    return np.array(X), np.array(y)"
   ]
  },
  {
   "cell_type": "code",
   "execution_count": 18,
   "id": "3faf0573",
   "metadata": {},
   "outputs": [],
   "source": [
    "# Buat data time series\n",
    "X, y = create_dataset(df[target_cols].values, time_steps=5)"
   ]
  },
  {
   "cell_type": "code",
   "execution_count": 20,
   "id": "058c98ba",
   "metadata": {},
   "outputs": [],
   "source": [
    "# Split data\n",
    "X_train, X_test, y_train, y_test = train_test_split(X, y, test_size=0.2, random_state=42)"
   ]
  },
  {
   "cell_type": "code",
   "execution_count": 21,
   "id": "523014a3",
   "metadata": {},
   "outputs": [
    {
     "name": "stdout",
     "output_type": "stream",
     "text": [
      "Input shape: (290, 5, 4)\n"
     ]
    }
   ],
   "source": [
    "# Bentuk input\n",
    "print(\"Input shape:\", X_train.shape)"
   ]
  },
  {
   "cell_type": "code",
   "execution_count": 22,
   "id": "124f6308",
   "metadata": {},
   "outputs": [],
   "source": [
    "# Callbacks\n",
    "early_stop = EarlyStopping(patience=5, restore_best_weights=True)"
   ]
  },
  {
   "cell_type": "code",
   "execution_count": 25,
   "id": "f4ab88a0",
   "metadata": {},
   "outputs": [
    {
     "name": "stdout",
     "output_type": "stream",
     "text": [
      "Epoch 1/50\n",
      "\u001b[1m15/15\u001b[0m \u001b[32m━━━━━━━━━━━━━━━━━━━━\u001b[0m\u001b[37m\u001b[0m \u001b[1m11s\u001b[0m 87ms/step - loss: 1347.0059 - val_loss: 376.1685\n",
      "Epoch 2/50\n",
      "\u001b[1m15/15\u001b[0m \u001b[32m━━━━━━━━━━━━━━━━━━━━\u001b[0m\u001b[37m\u001b[0m \u001b[1m1s\u001b[0m 37ms/step - loss: 394.7459 - val_loss: 197.4587\n",
      "Epoch 3/50\n",
      "\u001b[1m15/15\u001b[0m \u001b[32m━━━━━━━━━━━━━━━━━━━━\u001b[0m\u001b[37m\u001b[0m \u001b[1m1s\u001b[0m 54ms/step - loss: 263.8091 - val_loss: 158.6974\n",
      "Epoch 4/50\n",
      "\u001b[1m15/15\u001b[0m \u001b[32m━━━━━━━━━━━━━━━━━━━━\u001b[0m\u001b[37m\u001b[0m \u001b[1m1s\u001b[0m 21ms/step - loss: 203.2072 - val_loss: 130.0044\n",
      "Epoch 5/50\n",
      "\u001b[1m15/15\u001b[0m \u001b[32m━━━━━━━━━━━━━━━━━━━━\u001b[0m\u001b[37m\u001b[0m \u001b[1m0s\u001b[0m 17ms/step - loss: 179.7838 - val_loss: 113.7114\n",
      "Epoch 6/50\n",
      "\u001b[1m15/15\u001b[0m \u001b[32m━━━━━━━━━━━━━━━━━━━━\u001b[0m\u001b[37m\u001b[0m \u001b[1m1s\u001b[0m 64ms/step - loss: 153.7713 - val_loss: 110.6852\n",
      "Epoch 7/50\n",
      "\u001b[1m15/15\u001b[0m \u001b[32m━━━━━━━━━━━━━━━━━━━━\u001b[0m\u001b[37m\u001b[0m \u001b[1m2s\u001b[0m 113ms/step - loss: 187.3126 - val_loss: 97.7651\n",
      "Epoch 8/50\n",
      "\u001b[1m15/15\u001b[0m \u001b[32m━━━━━━━━━━━━━━━━━━━━\u001b[0m\u001b[37m\u001b[0m \u001b[1m4s\u001b[0m 89ms/step - loss: 130.8496 - val_loss: 99.8299\n",
      "Epoch 9/50\n",
      "\u001b[1m15/15\u001b[0m \u001b[32m━━━━━━━━━━━━━━━━━━━━\u001b[0m\u001b[37m\u001b[0m \u001b[1m2s\u001b[0m 120ms/step - loss: 143.0907 - val_loss: 93.7262\n",
      "Epoch 10/50\n",
      "\u001b[1m15/15\u001b[0m \u001b[32m━━━━━━━━━━━━━━━━━━━━\u001b[0m\u001b[37m\u001b[0m \u001b[1m5s\u001b[0m 209ms/step - loss: 128.7222 - val_loss: 98.7385\n",
      "Epoch 11/50\n",
      "\u001b[1m15/15\u001b[0m \u001b[32m━━━━━━━━━━━━━━━━━━━━\u001b[0m\u001b[37m\u001b[0m \u001b[1m4s\u001b[0m 142ms/step - loss: 136.7984 - val_loss: 87.3178\n",
      "Epoch 12/50\n",
      "\u001b[1m15/15\u001b[0m \u001b[32m━━━━━━━━━━━━━━━━━━━━\u001b[0m\u001b[37m\u001b[0m \u001b[1m2s\u001b[0m 97ms/step - loss: 142.6945 - val_loss: 82.8030\n",
      "Epoch 13/50\n",
      "\u001b[1m15/15\u001b[0m \u001b[32m━━━━━━━━━━━━━━━━━━━━\u001b[0m\u001b[37m\u001b[0m \u001b[1m3s\u001b[0m 88ms/step - loss: 118.1816 - val_loss: 83.4897\n",
      "Epoch 14/50\n",
      "\u001b[1m15/15\u001b[0m \u001b[32m━━━━━━━━━━━━━━━━━━━━\u001b[0m\u001b[37m\u001b[0m \u001b[1m1s\u001b[0m 50ms/step - loss: 116.9440 - val_loss: 81.3435\n",
      "Epoch 15/50\n",
      "\u001b[1m15/15\u001b[0m \u001b[32m━━━━━━━━━━━━━━━━━━━━\u001b[0m\u001b[37m\u001b[0m \u001b[1m2s\u001b[0m 76ms/step - loss: 107.4878 - val_loss: 73.3690\n",
      "Epoch 16/50\n",
      "\u001b[1m15/15\u001b[0m \u001b[32m━━━━━━━━━━━━━━━━━━━━\u001b[0m\u001b[37m\u001b[0m \u001b[1m1s\u001b[0m 77ms/step - loss: 112.7868 - val_loss: 72.8306\n",
      "Epoch 17/50\n",
      "\u001b[1m15/15\u001b[0m \u001b[32m━━━━━━━━━━━━━━━━━━━━\u001b[0m\u001b[37m\u001b[0m \u001b[1m1s\u001b[0m 38ms/step - loss: 94.7710 - val_loss: 71.4404\n",
      "Epoch 18/50\n",
      "\u001b[1m15/15\u001b[0m \u001b[32m━━━━━━━━━━━━━━━━━━━━\u001b[0m\u001b[37m\u001b[0m \u001b[1m1s\u001b[0m 87ms/step - loss: 124.9062 - val_loss: 69.0833\n",
      "Epoch 19/50\n",
      "\u001b[1m15/15\u001b[0m \u001b[32m━━━━━━━━━━━━━━━━━━━━\u001b[0m\u001b[37m\u001b[0m \u001b[1m3s\u001b[0m 117ms/step - loss: 97.0377 - val_loss: 75.8056\n",
      "Epoch 20/50\n",
      "\u001b[1m15/15\u001b[0m \u001b[32m━━━━━━━━━━━━━━━━━━━━\u001b[0m\u001b[37m\u001b[0m \u001b[1m1s\u001b[0m 43ms/step - loss: 86.0412 - val_loss: 63.6629\n",
      "Epoch 21/50\n",
      "\u001b[1m15/15\u001b[0m \u001b[32m━━━━━━━━━━━━━━━━━━━━\u001b[0m\u001b[37m\u001b[0m \u001b[1m1s\u001b[0m 35ms/step - loss: 92.7205 - val_loss: 73.1830\n",
      "Epoch 22/50\n",
      "\u001b[1m15/15\u001b[0m \u001b[32m━━━━━━━━━━━━━━━━━━━━\u001b[0m\u001b[37m\u001b[0m \u001b[1m1s\u001b[0m 49ms/step - loss: 84.2171 - val_loss: 61.5138\n",
      "Epoch 23/50\n",
      "\u001b[1m15/15\u001b[0m \u001b[32m━━━━━━━━━━━━━━━━━━━━\u001b[0m\u001b[37m\u001b[0m \u001b[1m1s\u001b[0m 49ms/step - loss: 92.0236 - val_loss: 65.6411\n",
      "Epoch 24/50\n",
      "\u001b[1m15/15\u001b[0m \u001b[32m━━━━━━━━━━━━━━━━━━━━\u001b[0m\u001b[37m\u001b[0m \u001b[1m2s\u001b[0m 79ms/step - loss: 72.4406 - val_loss: 61.6926\n",
      "Epoch 25/50\n",
      "\u001b[1m15/15\u001b[0m \u001b[32m━━━━━━━━━━━━━━━━━━━━\u001b[0m\u001b[37m\u001b[0m \u001b[1m4s\u001b[0m 129ms/step - loss: 83.1814 - val_loss: 63.0273\n",
      "Epoch 26/50\n",
      "\u001b[1m15/15\u001b[0m \u001b[32m━━━━━━━━━━━━━━━━━━━━\u001b[0m\u001b[37m\u001b[0m \u001b[1m3s\u001b[0m 125ms/step - loss: 67.7607 - val_loss: 56.0828\n",
      "Epoch 27/50\n",
      "\u001b[1m15/15\u001b[0m \u001b[32m━━━━━━━━━━━━━━━━━━━━\u001b[0m\u001b[37m\u001b[0m \u001b[1m1s\u001b[0m 42ms/step - loss: 81.6748 - val_loss: 62.9586\n",
      "Epoch 28/50\n",
      "\u001b[1m15/15\u001b[0m \u001b[32m━━━━━━━━━━━━━━━━━━━━\u001b[0m\u001b[37m\u001b[0m \u001b[1m1s\u001b[0m 87ms/step - loss: 80.3413 - val_loss: 54.9700\n",
      "Epoch 29/50\n",
      "\u001b[1m15/15\u001b[0m \u001b[32m━━━━━━━━━━━━━━━━━━━━\u001b[0m\u001b[37m\u001b[0m \u001b[1m1s\u001b[0m 54ms/step - loss: 63.4215 - val_loss: 60.4263\n",
      "Epoch 30/50\n",
      "\u001b[1m15/15\u001b[0m \u001b[32m━━━━━━━━━━━━━━━━━━━━\u001b[0m\u001b[37m\u001b[0m \u001b[1m1s\u001b[0m 28ms/step - loss: 75.6794 - val_loss: 57.5152\n",
      "Epoch 31/50\n",
      "\u001b[1m15/15\u001b[0m \u001b[32m━━━━━━━━━━━━━━━━━━━━\u001b[0m\u001b[37m\u001b[0m \u001b[1m1s\u001b[0m 43ms/step - loss: 83.0351 - val_loss: 54.0380\n",
      "Epoch 32/50\n",
      "\u001b[1m15/15\u001b[0m \u001b[32m━━━━━━━━━━━━━━━━━━━━\u001b[0m\u001b[37m\u001b[0m \u001b[1m1s\u001b[0m 37ms/step - loss: 72.5472 - val_loss: 55.3363\n",
      "Epoch 33/50\n",
      "\u001b[1m15/15\u001b[0m \u001b[32m━━━━━━━━━━━━━━━━━━━━\u001b[0m\u001b[37m\u001b[0m \u001b[1m1s\u001b[0m 68ms/step - loss: 61.2029 - val_loss: 51.6882\n",
      "Epoch 34/50\n",
      "\u001b[1m15/15\u001b[0m \u001b[32m━━━━━━━━━━━━━━━━━━━━\u001b[0m\u001b[37m\u001b[0m \u001b[1m1s\u001b[0m 53ms/step - loss: 66.4407 - val_loss: 51.8996\n",
      "Epoch 35/50\n",
      "\u001b[1m15/15\u001b[0m \u001b[32m━━━━━━━━━━━━━━━━━━━━\u001b[0m\u001b[37m\u001b[0m \u001b[1m2s\u001b[0m 84ms/step - loss: 57.4889 - val_loss: 49.5787\n",
      "Epoch 36/50\n",
      "\u001b[1m15/15\u001b[0m \u001b[32m━━━━━━━━━━━━━━━━━━━━\u001b[0m\u001b[37m\u001b[0m \u001b[1m3s\u001b[0m 175ms/step - loss: 63.9433 - val_loss: 54.5742\n",
      "Epoch 37/50\n",
      "\u001b[1m15/15\u001b[0m \u001b[32m━━━━━━━━━━━━━━━━━━━━\u001b[0m\u001b[37m\u001b[0m \u001b[1m0s\u001b[0m 22ms/step - loss: 64.5963 - val_loss: 47.5196\n",
      "Epoch 38/50\n",
      "\u001b[1m15/15\u001b[0m \u001b[32m━━━━━━━━━━━━━━━━━━━━\u001b[0m\u001b[37m\u001b[0m \u001b[1m1s\u001b[0m 93ms/step - loss: 55.7176 - val_loss: 47.1968\n",
      "Epoch 39/50\n",
      "\u001b[1m15/15\u001b[0m \u001b[32m━━━━━━━━━━━━━━━━━━━━\u001b[0m\u001b[37m\u001b[0m \u001b[1m2s\u001b[0m 47ms/step - loss: 62.9479 - val_loss: 50.4175\n",
      "Epoch 40/50\n",
      "\u001b[1m15/15\u001b[0m \u001b[32m━━━━━━━━━━━━━━━━━━━━\u001b[0m\u001b[37m\u001b[0m \u001b[1m1s\u001b[0m 25ms/step - loss: 64.5107 - val_loss: 50.9165\n",
      "Epoch 41/50\n",
      "\u001b[1m15/15\u001b[0m \u001b[32m━━━━━━━━━━━━━━━━━━━━\u001b[0m\u001b[37m\u001b[0m \u001b[1m1s\u001b[0m 21ms/step - loss: 65.1271 - val_loss: 47.3272\n",
      "Epoch 42/50\n",
      "\u001b[1m15/15\u001b[0m \u001b[32m━━━━━━━━━━━━━━━━━━━━\u001b[0m\u001b[37m\u001b[0m \u001b[1m0s\u001b[0m 19ms/step - loss: 67.0991 - val_loss: 50.5446\n",
      "Epoch 43/50\n",
      "\u001b[1m15/15\u001b[0m \u001b[32m━━━━━━━━━━━━━━━━━━━━\u001b[0m\u001b[37m\u001b[0m \u001b[1m1s\u001b[0m 35ms/step - loss: 50.1334 - val_loss: 48.8064\n"
     ]
    },
    {
     "data": {
      "text/plain": [
       "<keras.src.callbacks.history.History at 0x1c1c00ee860>"
      ]
     },
     "execution_count": 25,
     "metadata": {},
     "output_type": "execute_result"
    }
   ],
   "source": [
    "# ===== 2. MODEL CNN (CONV1D) =====\n",
    "model_cnn = Sequential()\n",
    "model_cnn.add(Conv1D(filters=64, kernel_size=2, activation='relu', input_shape=(X.shape[1], X.shape[2])))\n",
    "model_cnn.add(Dropout(0.3))\n",
    "model_cnn.add(Flatten())\n",
    "model_cnn.add(Dense(50, activation='relu'))\n",
    "model_cnn.add(Dense(y.shape[1]))\n",
    "model_cnn.compile(optimizer='adam', loss='mse')\n",
    "model_cnn.fit(X_train, y_train, epochs=50, batch_size=16, validation_split=0.2, callbacks=[early_stop], verbose=1)"
   ]
  },
  {
   "cell_type": "code",
   "execution_count": 26,
   "id": "0fc21851",
   "metadata": {},
   "outputs": [
    {
     "name": "stderr",
     "output_type": "stream",
     "text": [
      "c:\\Users\\ACER\\AppData\\Local\\Programs\\Python\\Python310\\lib\\site-packages\\keras\\src\\layers\\rnn\\rnn.py:199: UserWarning: Do not pass an `input_shape`/`input_dim` argument to a layer. When using Sequential models, prefer using an `Input(shape)` object as the first layer in the model instead.\n",
      "  super().__init__(**kwargs)\n"
     ]
    },
    {
     "name": "stdout",
     "output_type": "stream",
     "text": [
      "Epoch 1/50\n",
      "\u001b[1m15/15\u001b[0m \u001b[32m━━━━━━━━━━━━━━━━━━━━\u001b[0m\u001b[37m\u001b[0m \u001b[1m18s\u001b[0m 179ms/step - loss: 1698.6849 - val_loss: 1702.6638\n",
      "Epoch 2/50\n",
      "\u001b[1m15/15\u001b[0m \u001b[32m━━━━━━━━━━━━━━━━━━━━\u001b[0m\u001b[37m\u001b[0m \u001b[1m3s\u001b[0m 179ms/step - loss: 1667.4200 - val_loss: 1619.2147\n",
      "Epoch 3/50\n",
      "\u001b[1m15/15\u001b[0m \u001b[32m━━━━━━━━━━━━━━━━━━━━\u001b[0m\u001b[37m\u001b[0m \u001b[1m2s\u001b[0m 65ms/step - loss: 1582.4204 - val_loss: 1486.7314\n",
      "Epoch 4/50\n",
      "\u001b[1m15/15\u001b[0m \u001b[32m━━━━━━━━━━━━━━━━━━━━\u001b[0m\u001b[37m\u001b[0m \u001b[1m1s\u001b[0m 36ms/step - loss: 1433.7635 - val_loss: 1297.0906\n",
      "Epoch 5/50\n",
      "\u001b[1m15/15\u001b[0m \u001b[32m━━━━━━━━━━━━━━━━━━━━\u001b[0m\u001b[37m\u001b[0m \u001b[1m1s\u001b[0m 40ms/step - loss: 1252.0552 - val_loss: 1080.2855\n",
      "Epoch 6/50\n",
      "\u001b[1m15/15\u001b[0m \u001b[32m━━━━━━━━━━━━━━━━━━━━\u001b[0m\u001b[37m\u001b[0m \u001b[1m1s\u001b[0m 37ms/step - loss: 1041.2640 - val_loss: 880.6124\n",
      "Epoch 7/50\n",
      "\u001b[1m15/15\u001b[0m \u001b[32m━━━━━━━━━━━━━━━━━━━━\u001b[0m\u001b[37m\u001b[0m \u001b[1m1s\u001b[0m 41ms/step - loss: 853.5617 - val_loss: 736.7181\n",
      "Epoch 8/50\n",
      "\u001b[1m15/15\u001b[0m \u001b[32m━━━━━━━━━━━━━━━━━━━━\u001b[0m\u001b[37m\u001b[0m \u001b[1m1s\u001b[0m 32ms/step - loss: 711.6952 - val_loss: 614.0767\n",
      "Epoch 9/50\n",
      "\u001b[1m15/15\u001b[0m \u001b[32m━━━━━━━━━━━━━━━━━━━━\u001b[0m\u001b[37m\u001b[0m \u001b[1m1s\u001b[0m 41ms/step - loss: 588.4977 - val_loss: 509.8616\n",
      "Epoch 10/50\n",
      "\u001b[1m15/15\u001b[0m \u001b[32m━━━━━━━━━━━━━━━━━━━━\u001b[0m\u001b[37m\u001b[0m \u001b[1m1s\u001b[0m 50ms/step - loss: 494.5496 - val_loss: 425.9576\n",
      "Epoch 11/50\n",
      "\u001b[1m15/15\u001b[0m \u001b[32m━━━━━━━━━━━━━━━━━━━━\u001b[0m\u001b[37m\u001b[0m \u001b[1m1s\u001b[0m 80ms/step - loss: 505.0595 - val_loss: 356.6407\n",
      "Epoch 12/50\n",
      "\u001b[1m15/15\u001b[0m \u001b[32m━━━━━━━━━━━━━━━━━━━━\u001b[0m\u001b[37m\u001b[0m \u001b[1m1s\u001b[0m 35ms/step - loss: 383.4092 - val_loss: 310.4709\n",
      "Epoch 13/50\n",
      "\u001b[1m15/15\u001b[0m \u001b[32m━━━━━━━━━━━━━━━━━━━━\u001b[0m\u001b[37m\u001b[0m \u001b[1m1s\u001b[0m 38ms/step - loss: 372.1695 - val_loss: 280.1744\n",
      "Epoch 14/50\n",
      "\u001b[1m15/15\u001b[0m \u001b[32m━━━━━━━━━━━━━━━━━━━━\u001b[0m\u001b[37m\u001b[0m \u001b[1m1s\u001b[0m 37ms/step - loss: 362.4780 - val_loss: 258.8773\n",
      "Epoch 15/50\n",
      "\u001b[1m15/15\u001b[0m \u001b[32m━━━━━━━━━━━━━━━━━━━━\u001b[0m\u001b[37m\u001b[0m \u001b[1m1s\u001b[0m 35ms/step - loss: 322.0163 - val_loss: 242.1154\n",
      "Epoch 16/50\n",
      "\u001b[1m15/15\u001b[0m \u001b[32m━━━━━━━━━━━━━━━━━━━━\u001b[0m\u001b[37m\u001b[0m \u001b[1m1s\u001b[0m 41ms/step - loss: 313.3317 - val_loss: 234.8728\n",
      "Epoch 17/50\n",
      "\u001b[1m15/15\u001b[0m \u001b[32m━━━━━━━━━━━━━━━━━━━━\u001b[0m\u001b[37m\u001b[0m \u001b[1m4s\u001b[0m 246ms/step - loss: 299.3280 - val_loss: 224.4728\n",
      "Epoch 18/50\n",
      "\u001b[1m15/15\u001b[0m \u001b[32m━━━━━━━━━━━━━━━━━━━━\u001b[0m\u001b[37m\u001b[0m \u001b[1m1s\u001b[0m 77ms/step - loss: 284.3941 - val_loss: 211.7100\n",
      "Epoch 19/50\n",
      "\u001b[1m15/15\u001b[0m \u001b[32m━━━━━━━━━━━━━━━━━━━━\u001b[0m\u001b[37m\u001b[0m \u001b[1m2s\u001b[0m 155ms/step - loss: 330.1561 - val_loss: 203.7526\n",
      "Epoch 20/50\n",
      "\u001b[1m15/15\u001b[0m \u001b[32m━━━━━━━━━━━━━━━━━━━━\u001b[0m\u001b[37m\u001b[0m \u001b[1m5s\u001b[0m 364ms/step - loss: 296.4093 - val_loss: 197.7206\n",
      "Epoch 21/50\n",
      "\u001b[1m15/15\u001b[0m \u001b[32m━━━━━━━━━━━━━━━━━━━━\u001b[0m\u001b[37m\u001b[0m \u001b[1m8s\u001b[0m 88ms/step - loss: 307.3786 - val_loss: 189.5073\n",
      "Epoch 22/50\n",
      "\u001b[1m15/15\u001b[0m \u001b[32m━━━━━━━━━━━━━━━━━━━━\u001b[0m\u001b[37m\u001b[0m \u001b[1m6s\u001b[0m 246ms/step - loss: 286.8990 - val_loss: 183.1459\n",
      "Epoch 23/50\n",
      "\u001b[1m15/15\u001b[0m \u001b[32m━━━━━━━━━━━━━━━━━━━━\u001b[0m\u001b[37m\u001b[0m \u001b[1m3s\u001b[0m 71ms/step - loss: 267.2407 - val_loss: 176.5304\n",
      "Epoch 24/50\n",
      "\u001b[1m15/15\u001b[0m \u001b[32m━━━━━━━━━━━━━━━━━━━━\u001b[0m\u001b[37m\u001b[0m \u001b[1m1s\u001b[0m 54ms/step - loss: 271.1700 - val_loss: 169.0186\n",
      "Epoch 25/50\n",
      "\u001b[1m15/15\u001b[0m \u001b[32m━━━━━━━━━━━━━━━━━━━━\u001b[0m\u001b[37m\u001b[0m \u001b[1m1s\u001b[0m 47ms/step - loss: 254.8279 - val_loss: 163.0270\n",
      "Epoch 26/50\n",
      "\u001b[1m15/15\u001b[0m \u001b[32m━━━━━━━━━━━━━━━━━━━━\u001b[0m\u001b[37m\u001b[0m \u001b[1m1s\u001b[0m 50ms/step - loss: 285.9476 - val_loss: 158.5369\n",
      "Epoch 27/50\n",
      "\u001b[1m15/15\u001b[0m \u001b[32m━━━━━━━━━━━━━━━━━━━━\u001b[0m\u001b[37m\u001b[0m \u001b[1m1s\u001b[0m 43ms/step - loss: 249.2931 - val_loss: 155.1196\n",
      "Epoch 28/50\n",
      "\u001b[1m15/15\u001b[0m \u001b[32m━━━━━━━━━━━━━━━━━━━━\u001b[0m\u001b[37m\u001b[0m \u001b[1m1s\u001b[0m 66ms/step - loss: 194.7753 - val_loss: 147.1773\n",
      "Epoch 29/50\n",
      "\u001b[1m15/15\u001b[0m \u001b[32m━━━━━━━━━━━━━━━━━━━━\u001b[0m\u001b[37m\u001b[0m \u001b[1m1s\u001b[0m 49ms/step - loss: 234.5375 - val_loss: 141.5008\n",
      "Epoch 30/50\n",
      "\u001b[1m15/15\u001b[0m \u001b[32m━━━━━━━━━━━━━━━━━━━━\u001b[0m\u001b[37m\u001b[0m \u001b[1m0s\u001b[0m 26ms/step - loss: 199.9919 - val_loss: 136.5804\n",
      "Epoch 31/50\n",
      "\u001b[1m15/15\u001b[0m \u001b[32m━━━━━━━━━━━━━━━━━━━━\u001b[0m\u001b[37m\u001b[0m \u001b[1m1s\u001b[0m 59ms/step - loss: 212.2395 - val_loss: 131.7527\n",
      "Epoch 32/50\n",
      "\u001b[1m15/15\u001b[0m \u001b[32m━━━━━━━━━━━━━━━━━━━━\u001b[0m\u001b[37m\u001b[0m \u001b[1m2s\u001b[0m 49ms/step - loss: 213.2926 - val_loss: 127.8869\n",
      "Epoch 33/50\n",
      "\u001b[1m15/15\u001b[0m \u001b[32m━━━━━━━━━━━━━━━━━━━━\u001b[0m\u001b[37m\u001b[0m \u001b[1m1s\u001b[0m 33ms/step - loss: 222.2739 - val_loss: 123.6190\n",
      "Epoch 34/50\n",
      "\u001b[1m15/15\u001b[0m \u001b[32m━━━━━━━━━━━━━━━━━━━━\u001b[0m\u001b[37m\u001b[0m \u001b[1m1s\u001b[0m 37ms/step - loss: 173.6315 - val_loss: 118.1042\n",
      "Epoch 35/50\n",
      "\u001b[1m15/15\u001b[0m \u001b[32m━━━━━━━━━━━━━━━━━━━━\u001b[0m\u001b[37m\u001b[0m \u001b[1m1s\u001b[0m 35ms/step - loss: 193.7248 - val_loss: 114.8428\n",
      "Epoch 36/50\n",
      "\u001b[1m15/15\u001b[0m \u001b[32m━━━━━━━━━━━━━━━━━━━━\u001b[0m\u001b[37m\u001b[0m \u001b[1m1s\u001b[0m 53ms/step - loss: 208.0015 - val_loss: 110.6076\n",
      "Epoch 37/50\n",
      "\u001b[1m15/15\u001b[0m \u001b[32m━━━━━━━━━━━━━━━━━━━━\u001b[0m\u001b[37m\u001b[0m \u001b[1m1s\u001b[0m 54ms/step - loss: 194.3975 - val_loss: 107.0422\n",
      "Epoch 38/50\n",
      "\u001b[1m15/15\u001b[0m \u001b[32m━━━━━━━━━━━━━━━━━━━━\u001b[0m\u001b[37m\u001b[0m \u001b[1m2s\u001b[0m 63ms/step - loss: 162.5214 - val_loss: 102.6058\n",
      "Epoch 39/50\n",
      "\u001b[1m15/15\u001b[0m \u001b[32m━━━━━━━━━━━━━━━━━━━━\u001b[0m\u001b[37m\u001b[0m \u001b[1m1s\u001b[0m 39ms/step - loss: 200.5544 - val_loss: 98.4375\n",
      "Epoch 40/50\n",
      "\u001b[1m15/15\u001b[0m \u001b[32m━━━━━━━━━━━━━━━━━━━━\u001b[0m\u001b[37m\u001b[0m \u001b[1m1s\u001b[0m 37ms/step - loss: 168.1482 - val_loss: 94.2855\n",
      "Epoch 41/50\n",
      "\u001b[1m15/15\u001b[0m \u001b[32m━━━━━━━━━━━━━━━━━━━━\u001b[0m\u001b[37m\u001b[0m \u001b[1m1s\u001b[0m 45ms/step - loss: 164.9243 - val_loss: 90.1525\n",
      "Epoch 42/50\n",
      "\u001b[1m15/15\u001b[0m \u001b[32m━━━━━━━━━━━━━━━━━━━━\u001b[0m\u001b[37m\u001b[0m \u001b[1m1s\u001b[0m 39ms/step - loss: 154.3904 - val_loss: 85.4346\n",
      "Epoch 43/50\n",
      "\u001b[1m15/15\u001b[0m \u001b[32m━━━━━━━━━━━━━━━━━━━━\u001b[0m\u001b[37m\u001b[0m \u001b[1m2s\u001b[0m 74ms/step - loss: 124.8621 - val_loss: 82.8118\n",
      "Epoch 44/50\n",
      "\u001b[1m15/15\u001b[0m \u001b[32m━━━━━━━━━━━━━━━━━━━━\u001b[0m\u001b[37m\u001b[0m \u001b[1m1s\u001b[0m 35ms/step - loss: 150.4638 - val_loss: 78.5997\n",
      "Epoch 45/50\n",
      "\u001b[1m15/15\u001b[0m \u001b[32m━━━━━━━━━━━━━━━━━━━━\u001b[0m\u001b[37m\u001b[0m \u001b[1m1s\u001b[0m 36ms/step - loss: 141.3534 - val_loss: 75.7022\n",
      "Epoch 46/50\n",
      "\u001b[1m15/15\u001b[0m \u001b[32m━━━━━━━━━━━━━━━━━━━━\u001b[0m\u001b[37m\u001b[0m \u001b[1m1s\u001b[0m 52ms/step - loss: 150.1757 - val_loss: 72.2348\n",
      "Epoch 47/50\n",
      "\u001b[1m15/15\u001b[0m \u001b[32m━━━━━━━━━━━━━━━━━━━━\u001b[0m\u001b[37m\u001b[0m \u001b[1m1s\u001b[0m 45ms/step - loss: 136.8924 - val_loss: 69.0104\n",
      "Epoch 48/50\n",
      "\u001b[1m15/15\u001b[0m \u001b[32m━━━━━━━━━━━━━━━━━━━━\u001b[0m\u001b[37m\u001b[0m \u001b[1m2s\u001b[0m 59ms/step - loss: 140.2287 - val_loss: 64.9969\n",
      "Epoch 49/50\n",
      "\u001b[1m15/15\u001b[0m \u001b[32m━━━━━━━━━━━━━━━━━━━━\u001b[0m\u001b[37m\u001b[0m \u001b[1m2s\u001b[0m 63ms/step - loss: 132.7376 - val_loss: 64.7178\n",
      "Epoch 50/50\n",
      "\u001b[1m15/15\u001b[0m \u001b[32m━━━━━━━━━━━━━━━━━━━━\u001b[0m\u001b[37m\u001b[0m \u001b[1m1s\u001b[0m 37ms/step - loss: 136.2196 - val_loss: 59.8091\n"
     ]
    },
    {
     "data": {
      "text/plain": [
       "<keras.src.callbacks.history.History at 0x1c1c1cc24d0>"
      ]
     },
     "execution_count": 26,
     "metadata": {},
     "output_type": "execute_result"
    }
   ],
   "source": [
    "# ===== 3. MODEL LSTM =====\n",
    "model_lstm = Sequential()\n",
    "model_lstm.add(LSTM(64, input_shape=(X.shape[1], X.shape[2]), return_sequences=False))\n",
    "model_lstm.add(Dropout(0.3))\n",
    "model_lstm.add(Dense(50, activation='relu'))\n",
    "model_lstm.add(Dense(y.shape[1]))\n",
    "model_lstm.compile(optimizer='adam', loss='mse')\n",
    "model_lstm.fit(X_train, y_train, epochs=50, batch_size=16, validation_split=0.2, callbacks=[early_stop], verbose=1)"
   ]
  },
  {
   "cell_type": "code",
   "execution_count": 34,
   "id": "e9867ad3",
   "metadata": {},
   "outputs": [
    {
     "name": "stderr",
     "output_type": "stream",
     "text": [
      "c:\\Users\\ACER\\AppData\\Local\\Programs\\Python\\Python310\\lib\\site-packages\\keras\\src\\layers\\convolutional\\base_conv.py:113: UserWarning: Do not pass an `input_shape`/`input_dim` argument to a layer. When using Sequential models, prefer using an `Input(shape)` object as the first layer in the model instead.\n",
      "  super().__init__(activity_regularizer=activity_regularizer, **kwargs)\n"
     ]
    }
   ],
   "source": [
    "# 8. Buat model Deep Learning: Conv1D + LSTM\n",
    "model = Sequential()\n",
    "model.add(Conv1D(64, kernel_size=2, activation='relu', input_shape=(X.shape[1], X.shape[2])))\n",
    "model.add(LSTM(64, return_sequences=False))\n",
    "model.add(Dropout(0.3))\n",
    "model.add(Dense(y.shape[1]))\n",
    "model.compile(optimizer='adam', loss='mse')\n"
   ]
  },
  {
   "cell_type": "code",
   "execution_count": 36,
   "id": "0623f62f",
   "metadata": {},
   "outputs": [
    {
     "name": "stdout",
     "output_type": "stream",
     "text": [
      "\u001b[1m12/12\u001b[0m \u001b[32m━━━━━━━━━━━━━━━━━━━━\u001b[0m\u001b[37m\u001b[0m \u001b[1m2s\u001b[0m 112ms/step\n"
     ]
    },
    {
     "ename": "NameError",
     "evalue": "name 'mean_absolute_error' is not defined",
     "output_type": "error",
     "traceback": [
      "\u001b[1;31m---------------------------------------------------------------------------\u001b[0m",
      "\u001b[1;31mNameError\u001b[0m                                 Traceback (most recent call last)",
      "Cell \u001b[1;32mIn[36], line 16\u001b[0m\n\u001b[0;32m     13\u001b[0m     \u001b[38;5;28;01mreturn\u001b[39;00m rmse, mae, r2\n\u001b[0;32m     15\u001b[0m results \u001b[38;5;241m=\u001b[39m {}\n\u001b[1;32m---> 16\u001b[0m results[\u001b[38;5;124m'\u001b[39m\u001b[38;5;124mCNN\u001b[39m\u001b[38;5;124m'\u001b[39m] \u001b[38;5;241m=\u001b[39m \u001b[43mevaluate_model\u001b[49m\u001b[43m(\u001b[49m\u001b[43mmodel_cnn\u001b[49m\u001b[43m,\u001b[49m\u001b[43m \u001b[49m\u001b[38;5;124;43m\"\u001b[39;49m\u001b[38;5;124;43mCNN\u001b[39;49m\u001b[38;5;124;43m\"\u001b[39;49m\u001b[43m)\u001b[49m\n\u001b[0;32m     17\u001b[0m results[\u001b[38;5;124m'\u001b[39m\u001b[38;5;124mLSTM\u001b[39m\u001b[38;5;124m'\u001b[39m] \u001b[38;5;241m=\u001b[39m evaluate_model(model_lstm, \u001b[38;5;124m\"\u001b[39m\u001b[38;5;124mLSTM\u001b[39m\u001b[38;5;124m\"\u001b[39m)\n\u001b[0;32m     18\u001b[0m results[\u001b[38;5;124m'\u001b[39m\u001b[38;5;124mCNN-LSTM\u001b[39m\u001b[38;5;124m'\u001b[39m] \u001b[38;5;241m=\u001b[39m evaluate_model(model_cnn_lstm, \u001b[38;5;124m\"\u001b[39m\u001b[38;5;124mCNN-LSTM\u001b[39m\u001b[38;5;124m\"\u001b[39m)\n",
      "Cell \u001b[1;32mIn[36], line 6\u001b[0m, in \u001b[0;36mevaluate_model\u001b[1;34m(model, name)\u001b[0m\n\u001b[0;32m      3\u001b[0m predicted \u001b[38;5;241m=\u001b[39m model\u001b[38;5;241m.\u001b[39mpredict(X)\n\u001b[0;32m      5\u001b[0m rmse \u001b[38;5;241m=\u001b[39m np\u001b[38;5;241m.\u001b[39msqrt(mean_squared_error(y, predicted))\n\u001b[1;32m----> 6\u001b[0m mae \u001b[38;5;241m=\u001b[39m \u001b[43mmean_absolute_error\u001b[49m(y, predicted)\n\u001b[0;32m      7\u001b[0m r2 \u001b[38;5;241m=\u001b[39m r2_score(y, predicted)\n\u001b[0;32m      9\u001b[0m \u001b[38;5;28mprint\u001b[39m(\u001b[38;5;124mf\u001b[39m\u001b[38;5;124m\"\u001b[39m\u001b[38;5;130;01m\\n\u001b[39;00m\u001b[38;5;124m[\u001b[39m\u001b[38;5;132;01m{\u001b[39;00mname\u001b[38;5;132;01m}\u001b[39;00m\u001b[38;5;124m]\u001b[39m\u001b[38;5;124m\"\u001b[39m)\n",
      "\u001b[1;31mNameError\u001b[0m: name 'mean_absolute_error' is not defined"
     ]
    }
   ],
   "source": [
    "# evaluasi setiap model\n",
    "def evaluate_model(model, name):\n",
    "    predicted = model.predict(X)\n",
    "\n",
    "    rmse = np.sqrt(mean_squared_error(y, predicted))\n",
    "    mae = mean_absolute_error(y, predicted)\n",
    "    r2 = r2_score(y, predicted)\n",
    "\n",
    "    print(f\"\\n[{name}]\")\n",
    "    print(f\"RMSE: {rmse:.4f}\")\n",
    "    print(f\"MAE : {mae:.4f}\")\n",
    "    print(f\"R²  : {r2:.4f}\")\n",
    "    return rmse, mae, r2\n",
    "\n",
    "results = {}\n",
    "results['CNN'] = evaluate_model(model_cnn, \"CNN\")\n",
    "results['LSTM'] = evaluate_model(model_lstm, \"LSTM\")\n",
    "results['CNN-LSTM'] = evaluate_model(model_cnn_lstm, \"CNN-LSTM\")"
   ]
  },
  {
   "cell_type": "code",
   "execution_count": 30,
   "id": "be415ac0",
   "metadata": {},
   "outputs": [
    {
     "name": "stdout",
     "output_type": "stream",
     "text": [
      "MSE CNN: 65.85513\n",
      "MSE LSTM: 57.53742\n",
      "MSE CNN-LSTM: 827.11252\n"
     ]
    }
   ],
   "source": [
    "# Hitung MSE dan tampilkan\n",
    "for name, pred in preds.items():\n",
    "    mse = mean_squared_error(y_test, pred)\n",
    "    print(f\"MSE {name}: {mse:.5f}\")"
   ]
  },
  {
   "cell_type": "code",
   "execution_count": 31,
   "id": "2ca1910e",
   "metadata": {},
   "outputs": [
    {
     "data": {
      "image/png": "[encoded data removed]",
      "text/plain": [
       "<Figure size 1400x600 with 1 Axes>"
      ]
     },
     "metadata": {},
     "output_type": "display_data"
    }
   ],
   "source": [
    "# ===== Visualisasi hasil prediksi target 'Belum Kawin' =====\n",
    "plt.figure(figsize=(14, 6))\n",
    "plt.plot(y_test[:, 0], label='Actual', color='black')\n",
    "for name, pred in preds.items():\n",
    "    plt.plot(pred[:, 0], label=f'{name} Prediction')\n",
    "plt.title(\"Perbandingan Hasil Prediksi Model (Target: Belum Kawin)\")\n",
    "plt.xlabel(\"Index\")\n",
    "plt.ylabel(\"Normalized Value\")\n",
    "plt.legend()\n",
    "plt.grid(True)\n",
    "plt.show()"
   ]
  }
 ],
 "metadata": {
  "kernelspec": {
   "display_name": "Python 3",
   "language": "python",
   "name": "python3"
  },
  "language_info": {
   "codemirror_mode": {
    "name": "ipython",
    "version": 3
   },
   "file_extension": ".py",
   "mimetype": "text/x-python",
   "name": "python",
   "nbconvert_exporter": "python",
   "pygments_lexer": "ipython3",
   "version": "3.10.0"
  }
 },
 "nbformat": 4,
 "nbformat_minor": 5
}
